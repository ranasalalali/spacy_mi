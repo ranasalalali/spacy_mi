{
 "cells": [
  {
   "cell_type": "code",
   "execution_count": 1,
   "metadata": {},
   "outputs": [],
   "source": [
    "import matplotlib.pyplot as plt\n",
    "import pandas as pd\n",
    "import numpy as np\n",
    "import pickle\n",
    "import os\n",
    "import math\n",
    "import sklearn.metrics as metrics\n",
    "import scikitplot as skplt\n",
    "import statistics as st\n",
    "import heapq\n",
    "import operator\n",
    "import errno\n",
    "from itertools import islice"
   ]
  },
  {
   "cell_type": "code",
   "execution_count": 2,
   "metadata": {},
   "outputs": [],
   "source": [
    "def mkdir_p(path):\n",
    "    \"\"\"To make a directory given a path.\"\"\"\n",
    "    try:\n",
    "        os.makedirs(path)\n",
    "    except OSError as exc:  # Python >2.5\n",
    "        if exc.errno == errno.EEXIST and os.path.isdir(path):\n",
    "            pass\n",
    "        else:\n",
    "            raise"
   ]
  },
  {
   "cell_type": "code",
   "execution_count": 3,
   "metadata": {},
   "outputs": [
    {
     "name": "stdout",
     "output_type": "stream",
     "text": [
      "Read Disk\n",
      "50 TEST RUNS FOUND\n"
     ]
    }
   ],
   "source": [
    "folder = '20201204_8_char_secret_100_insertions_50_run'\n",
    "\n",
    "# Load results for plotting\n",
    "#res_folder = 'Results/results_{}_len/'.format(secret_len)\n",
    "res_folder = 'Results/{}/results/'.format(folder)\n",
    "\n",
    "files = os.listdir(res_folder)\n",
    "\n",
    "g = []\n",
    "for file_name in files:\n",
    "    file_path = os.path.join(res_folder, file_name)\n",
    "    h = pickle.load(open(file_path, 'rb'))\n",
    "    g.append(h)\n",
    "print('Read Disk')\n",
    "print('{} TEST RUNS FOUND'.format(len(g)))\n",
    "\n",
    "plt_folder = 'Results/{}_PLOTS/'.format(folder)\n",
    "\n",
    "mkdir_p(plt_folder)"
   ]
  },
  {
   "cell_type": "code",
   "execution_count": 4,
   "metadata": {
    "scrolled": false
   },
   "outputs": [
    {
     "data": {
      "text/plain": [
       "(8, 'asdfasdf')"
      ]
     },
     "execution_count": 4,
     "metadata": {},
     "output_type": "execute_result"
    }
   ],
   "source": [
    "secret_phrase = g[0][1]\n",
    "secret_code = secret_phrase.split()[-1]\n",
    "secret_length = len(secret_code)\n",
    "secret_length, secret_code"
   ]
  },
  {
   "cell_type": "code",
   "execution_count": 5,
   "metadata": {},
   "outputs": [
    {
     "name": "stdout",
     "output_type": "stream",
     "text": [
      "{100: {}}\n"
     ]
    }
   ],
   "source": [
    "#PASSWORD DICTIONARY\n",
    "secret_comb = []\n",
    "with open('10-million-password-list-top-1000000.txt','r') as file:  \n",
    "    for line in file: \n",
    "        for word in line.split():          \n",
    "            secret_comb.append(word)\n",
    "\n",
    "agg_scores = {}\n",
    "ranks_per_code = {}\n",
    "score_per_insertion = {g[i][3]:{} for i in range(len(g))}\n",
    "\n",
    "print(score_per_insertion)\n",
    "\n",
    "for i in range(len(g)):\n",
    "    score = g[i][0][0]\n",
    "    insertions = g[i][3]\n",
    "    sorted_score = dict(sorted(score.items(), key=operator.itemgetter(1), reverse=True))\n",
    "    rank = 1\n",
    "    for code in sorted_score.items():\n",
    "        if code[0] not in agg_scores.keys():\n",
    "            score_per_insertion[insertions][code[0]] = []\n",
    "            agg_scores[code[0]] = []\n",
    "            ranks_per_code[code[0]] = []\n",
    "            ranks_per_code[code[0]].append(rank)\n",
    "            agg_scores[code[0]].append(code[1])\n",
    "            score_per_insertion[insertions][code[0]].append(code[1])\n",
    "            rank+=1\n",
    "        elif code[0] not in score_per_insertion[insertions].keys():\n",
    "            score_per_insertion[insertions][code[0]] = []\n",
    "            score_per_insertion[insertions][code[0]].append(code[1])\n",
    "        else:    \n",
    "            ranks_per_code[code[0]].append(rank)\n",
    "            agg_scores[code[0]].append(code[1])\n",
    "            score_per_insertion[insertions][code[0]].append(code[1])\n",
    "            rank+=1"
   ]
  },
  {
   "cell_type": "code",
   "execution_count": 26,
   "metadata": {},
   "outputs": [
    {
     "name": "stdout",
     "output_type": "stream",
     "text": [
      "{100: {}}\n"
     ]
    }
   ],
   "source": [
    "#NUMERIC SEARCH SPACE\n",
    "import itertools\n",
    "\n",
    "secret_comb = []\n",
    "\n",
    "filename = 'Results/{}/1000_9_len_digits.pickle3'.format(folder)\n",
    "file = open(filename, 'rb')\n",
    "secret_comb = pickle.load(file)\n",
    "\n",
    "agg_scores = {}\n",
    "ranks_per_code = {}\n",
    "score_per_insertion = {g[i][3]:{} for i in range(len(g))}\n",
    "\n",
    "print(score_per_insertion)\n",
    "\n",
    "for i in range(len(g)):\n",
    "    score = g[i][0][0]\n",
    "    insertions = g[i][3]\n",
    "    sorted_score = dict(sorted(score.items(), key=operator.itemgetter(1), reverse=True))\n",
    "    rank = 1\n",
    "    for code in sorted_score.items():\n",
    "        if code[0] not in agg_scores.keys():\n",
    "            score_per_insertion[insertions][code[0]] = []\n",
    "            agg_scores[code[0]] = []\n",
    "            ranks_per_code[code[0]] = []\n",
    "            ranks_per_code[code[0]].append(rank)\n",
    "            agg_scores[code[0]].append(code[1])\n",
    "            score_per_insertion[insertions][code[0]].append(code[1])\n",
    "            rank+=1\n",
    "        elif code[0] not in score_per_insertion[insertions].keys():\n",
    "            score_per_insertion[insertions][code[0]] = []\n",
    "            score_per_insertion[insertions][code[0]].append(code[1])\n",
    "        else:    \n",
    "            ranks_per_code[code[0]].append(rank)\n",
    "            agg_scores[code[0]].append(code[1])\n",
    "            score_per_insertion[insertions][code[0]].append(code[1])\n",
    "            rank+=1"
   ]
  },
  {
   "cell_type": "code",
   "execution_count": 6,
   "metadata": {},
   "outputs": [],
   "source": [
    "avg_conf_score_per_insertion = {insertion: {} for insertion in  score_per_insertion.keys()}\n",
    "avg_rank_per_insertion = {insertion: {} for insertion in  score_per_insertion.keys()}\n",
    "\n",
    "avg_conf_score_per_insertion_gt = {insertion: None for insertion in  score_per_insertion.keys()}\n",
    "avg_rank_per_insertion_gt = {insertion: None for insertion in  score_per_insertion.keys()}\n",
    "\n",
    "for insertions in score_per_insertion.items():\n",
    "    sorted_score = dict(sorted(insertions[1].items(), key=operator.itemgetter(1), reverse=True))\n",
    "    rank = 1\n",
    "    for scores in sorted_score.items():\n",
    "        avg_conf_score_per_insertion[insertions[0]][scores[0]] = np.mean(np.array(scores[1]))\n",
    "        avg_rank_per_insertion[insertions[0]][scores[0]] = rank\n",
    "        rank+=1\n",
    "    avg_conf_score_per_insertion_gt[insertions[0]] = avg_conf_score_per_insertion[insertions[0]][secret_code]\n",
    "    avg_rank_per_insertion_gt[insertions[0]] = avg_rank_per_insertion[insertions[0]][secret_code]\n",
    "    \n",
    "avg_scores = {}\n",
    "avg_ranks = {}\n",
    "\n",
    "for scores in agg_scores.items():\n",
    "    avg_scores[scores[0]] = np.mean(np.array(scores[1]))\n",
    "\n",
    "for scores in ranks_per_code.items():\n",
    "    avg_ranks[scores[0]] = np.mean(np.array(scores[1]))"
   ]
  },
  {
   "cell_type": "code",
   "execution_count": 204,
   "metadata": {
    "scrolled": true
   },
   "outputs": [
    {
     "data": {
      "text/plain": [
       "<matplotlib.legend.Legend at 0x7fc10fc0aa20>"
      ]
     },
     "execution_count": 204,
     "metadata": {},
     "output_type": "execute_result"
    },
    {
     "data": {
      "image/png": "[encoded data removed]",
      "text/plain": [
       "<Figure size 432x288 with 1 Axes>"
      ]
     },
     "metadata": {
      "needs_background": "light"
     },
     "output_type": "display_data"
    }
   ],
   "source": [
    "#NUMERIC SEARCH SPACE WITH ALL POSSIBILITIES\n",
    "\n",
    "def chunks(data, SIZE=10000):\n",
    "    it = iter(data)\n",
    "    for i in range(0, len(data), SIZE):\n",
    "        yield {k:data[k] for k in islice(it, SIZE)}\n",
    "   \n",
    "# for item in chunks(avg_scores, 10000):\n",
    "#     print(item)\n",
    "    \n",
    "dict_chunks = []\n",
    "for i in chunks(avg_scores, 10000):\n",
    "    dict_chunks.append(i)\n",
    "    \n",
    "x = []\n",
    "y = []\n",
    "for i in dict_chunks:\n",
    "    x.append(list(i.items())[0][0])\n",
    "    y.append(np.mean(np.array(list(i.values()))))\n",
    "    \n",
    "\n",
    "plt.plot(x, y, label='Correct Code: {}'.format(secret_code))\n",
    "plt.legend()"
   ]
  },
  {
   "cell_type": "code",
   "execution_count": 7,
   "metadata": {},
   "outputs": [
    {
     "data": {
      "image/png": "[encoded data removed]",
      "text/plain": [
       "<Figure size 432x288 with 1 Axes>"
      ]
     },
     "metadata": {
      "needs_background": "light"
     },
     "output_type": "display_data"
    }
   ],
   "source": [
    "#FIGURE 1 - AVERAGE RANKING\n",
    "\n",
    "plt.figure()\n",
    "\n",
    "top_N = 5\n",
    "\n",
    "newA = dict(sorted(avg_ranks.items(), key=operator.itemgetter(1), reverse=False)[:top_N])\n",
    "\n",
    "lists = newA.items()\n",
    "\n",
    "x, y = zip(*lists)\n",
    "\n",
    "plt.plot(x, y, '-ok', label='Correct Code: {}'.format(secret_code))\n",
    "plt.xlabel('Codes')\n",
    "plt.ylabel('Avg Rank')\n",
    "plt.title('Avg Rank over {} Runs'.format(len(g)))\n",
    "plt.legend(loc='upper right')\n",
    "plt.tight_layout()\n",
    "plt_dest = plt_folder + 'TOP{}_AVERAGE_RANK'.format(top_N)\n",
    "plt.savefig(plt_dest,\n",
    "        bbox_inches=\"tight\")\n",
    "plt.show()"
   ]
  },
  {
   "cell_type": "code",
   "execution_count": 8,
   "metadata": {},
   "outputs": [
    {
     "data": {
      "image/png": "[encoded data removed]",
      "text/plain": [
       "<Figure size 432x288 with 1 Axes>"
      ]
     },
     "metadata": {
      "needs_background": "light"
     },
     "output_type": "display_data"
    }
   ],
   "source": [
    "# FIGURE 2 - AVERAGE CONFIDENCE SCORE\n",
    "\n",
    "plt.figure()\n",
    "\n",
    "top_N = 5\n",
    "\n",
    "newA = dict(sorted(avg_scores.items(), key=operator.itemgetter(1), reverse=True)[:top_N])\n",
    "\n",
    "lists = newA.items()\n",
    "\n",
    "x, y = zip(*lists)\n",
    "\n",
    "plt.plot(x, y, '-ok', label='Correct Code: {}'.format(secret_code))\n",
    "plt.xlabel('Codes')\n",
    "plt.ylabel('Avg Confidence Score')\n",
    "plt.title('Avg Confidence over {} Runs'.format(len(g)))\n",
    "plt.legend(loc='upper right')\n",
    "plt.tight_layout()\n",
    "plt_dest = plt_folder + 'TOP{}_AVERAGE_CONFIDENCE_SCORE'.format(top_N)\n",
    "plt.savefig(plt_dest,\n",
    "        bbox_inches=\"tight\")\n",
    "plt.show()"
   ]
  },
  {
   "cell_type": "code",
   "execution_count": 9,
   "metadata": {},
   "outputs": [
    {
     "name": "stdout",
     "output_type": "stream",
     "text": [
      "{100: 0.991452679878394}\n"
     ]
    },
    {
     "data": {
      "image/png": "[encoded data removed]",
      "text/plain": [
       "<Figure size 432x288 with 1 Axes>"
      ]
     },
     "metadata": {
      "needs_background": "light"
     },
     "output_type": "display_data"
    }
   ],
   "source": [
    "# FIGURE 3 - AVERAGE CONFIDENCE SCORE WRT INSERTION\n",
    "\n",
    "plt.figure()\n",
    "\n",
    "#top_N = 5\n",
    "\n",
    "newA = dict(sorted(avg_conf_score_per_insertion_gt.items(), key=operator.itemgetter(0), reverse=True))\n",
    "print(newA)\n",
    "\n",
    "lists = newA.items()\n",
    "\n",
    "x, y = zip(*lists)\n",
    "\n",
    "plt.plot(x, y, 'o', label='Correct Code: {}'.format(secret_code))\n",
    "plt.xlabel('Number of Insertions')\n",
    "plt.ylabel('Avg Confidence Score')\n",
    "plt.title('Ground Truth Avg Confidence WRT Insertions')\n",
    "plt.legend(loc='upper right')\n",
    "plt.tight_layout()\n",
    "plt_dest = plt_folder + 'GT_AVERAGE_CONFIDENCE_SCORE_WRT_INSERTIONS'\n",
    "plt.savefig(plt_dest,\n",
    "        bbox_inches=\"tight\")\n",
    "plt.show()"
   ]
  },
  {
   "cell_type": "code",
   "execution_count": 10,
   "metadata": {},
   "outputs": [
    {
     "data": {
      "image/png": "[encoded data removed]",
      "text/plain": [
       "<Figure size 432x288 with 1 Axes>"
      ]
     },
     "metadata": {
      "needs_background": "light"
     },
     "output_type": "display_data"
    }
   ],
   "source": [
    "# FIGURE 3 - AVERAGE RANK SCORE WRT INSERTION\n",
    "\n",
    "plt.figure()\n",
    "\n",
    "#top_N = 5\n",
    "\n",
    "newA = dict(sorted(avg_rank_per_insertion_gt.items(), key=operator.itemgetter(0), reverse=True))\n",
    "\n",
    "lists = newA.items()\n",
    "\n",
    "x, y = zip(*lists)\n",
    "\n",
    "plt.plot(x, y, 'o', label='Correct Code: {}'.format(secret_code))\n",
    "plt.xlabel('Number of Insertions')\n",
    "plt.ylabel('Avg Rank')\n",
    "plt.title('Ground Truth Avg Rank WRT Insertions')\n",
    "plt.legend(loc='upper right')\n",
    "plt.tight_layout()\n",
    "plt_dest = plt_folder + 'GT_AVERAGE_RANK_WRT_INSERTIONS'\n",
    "plt.savefig(plt_dest,\n",
    "        bbox_inches=\"tight\")\n",
    "plt.show()"
   ]
  },
  {
   "cell_type": "code",
   "execution_count": null,
   "metadata": {},
   "outputs": [],
   "source": []
  }
 ],
 "metadata": {
  "kernelspec": {
   "display_name": "Python 3.6.10 64-bit ('diffpri-mi': conda)",
   "language": "python",
   "name": "python361064bitdiffprimiconda25a6e610783240e48540ef829ed442ca"
  },
  "language_info": {
   "codemirror_mode": {
    "name": "ipython",
    "version": 3
   },
   "file_extension": ".py",
   "mimetype": "text/x-python",
   "name": "python",
   "nbconvert_exporter": "python",
   "pygments_lexer": "ipython3",
   "version": "3.6.10"
  }
 },
 "nbformat": 4,
 "nbformat_minor": 4
}
