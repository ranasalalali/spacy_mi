{
 "cells": [
  {
   "cell_type": "code",
   "execution_count": 1,
   "id": "higher-services",
   "metadata": {},
   "outputs": [],
   "source": []
  },
  {
   "cell_type": "code",
   "execution_count": 38,
   "id": "median-warehouse",
   "metadata": {},
   "outputs": [],
   "source": [
    "import spacy\n",
    "from spacy import Language\n",
    "from collections import defaultdict\n",
    "import operator\n",
    "import math\n",
    "from string import punctuation, ascii_letters, ascii_uppercase, ascii_lowercase, digits\n",
    "import random\n",
    "from itertools import *\n",
    "import numpy as np\n",
    "import os\n",
    "import matplotlib.pyplot as plt\n",
    "from numpy import asarray\n",
    "from numpy import exp\n",
    "from numpy.random import randn\n",
    "from numpy.random import rand\n",
    "from numpy.random import seed\n",
    "import errno\n",
    "from matplotlib import pyplot\n",
    "import re\n",
    "from Levenshtein import distance as levenshtein_distance\n",
    "from sklearn.metrics import accuracy_score, confusion_matrix\n",
    "#!python -m spacy info\n",
    "#!pip install spacy==3.0.5\n",
    "#!pip install spacy==3.0.3\n",
    "#!pip install sklearn\n",
    "from zxcvbn import zxcvbn\n",
    "import pickle"
   ]
  },
  {
   "cell_type": "code",
   "execution_count": 39,
   "id": "governing-opinion",
   "metadata": {},
   "outputs": [],
   "source": [
    "def mkdir_p(path):\n",
    "    \"\"\"To make a directory given a path.\"\"\"\n",
    "    try:\n",
    "        os.makedirs(path)\n",
    "    except OSError as exc:  # Python >2.5\n",
    "        if exc.errno == errno.EEXIST and os.path.isdir(path):\n",
    "            pass\n",
    "        else:\n",
    "            raise\n",
    "            \n",
    "def unpack_data(res_folder=None):\n",
    "    g = []\n",
    "    br = False\n",
    "    files = os.listdir(res_folder)\n",
    "    for file_name in files:\n",
    "        print(file_name)\n",
    "        file_path = os.path.join(res_folder, file_name)\n",
    "        h = pickle.load(open(file_path, 'rb'))\n",
    "        g.append(h)\n",
    "        if br:\n",
    "            break\n",
    "    \n",
    "    print('Read Disk')\n",
    "    print('{} TEST RUNS FOUND'.format(len(g)))\n",
    "\n",
    "    return g\n",
    "\n",
    "def word_shape(text=None):\n",
    "    if len(text) >= 100:\n",
    "        return \"LONG\"\n",
    "    shape = []\n",
    "    last = \"\"\n",
    "    shape_char = \"\"\n",
    "    seq = 0\n",
    "    for char in text:\n",
    "        if char.isalpha():\n",
    "            if char.isupper():\n",
    "                shape_char = \"X\"\n",
    "            else:\n",
    "                shape_char = \"x\"\n",
    "        elif char.isdigit():\n",
    "            shape_char = \"d\"\n",
    "        else:\n",
    "            shape_char = char\n",
    "        if shape_char == last:\n",
    "            seq += 1\n",
    "        else:\n",
    "            seq = 0\n",
    "            last = shape_char\n",
    "        if seq < 4:\n",
    "            shape.append(shape_char)\n",
    "    return \"\".join(shape)"
   ]
  },
  {
   "cell_type": "code",
   "execution_count": 40,
   "id": "educated-verse",
   "metadata": {},
   "outputs": [
    {
     "name": "stdout",
     "output_type": "stream",
     "text": [
      "20210719_a_123_1_Missing_CHARS_10000_iterations_Passwords_Simulated_Annealing_Extraction.pickle\n",
      "20210719_a_123_2_Missing_CHARS_10000_iterations_Passwords_Simulated_Annealing_Extraction.pickle\n",
      "20210719_a_123_3_Missing_CHARS_10000_iterations_Passwords_Simulated_Annealing_Extraction.pickle\n",
      "20210719_a_123_4_Missing_CHARS_10000_iterations_Passwords_Simulated_Annealing_Extraction.pickle\n",
      "Read Disk\n",
      "4 TEST RUNS FOUND\n"
     ]
    }
   ],
   "source": [
    "plot_folder = \"Results/Simulated_Annealing_Results/\"\n",
    "mkdir_p(plot_folder)\n",
    "\n",
    "res_folder = \"Annealing_Results/\"\n",
    "\n",
    "g = unpack_data(res_folder)\n",
    "    "
   ]
  },
  {
   "cell_type": "code",
   "execution_count": 42,
   "id": "possible-sponsorship",
   "metadata": {},
   "outputs": [],
   "source": [
    "extracted_at_iteration = {1:{},2:{},3:{},4:{}}\n",
    "accuracy_at_iteration = {1:{},2:{},3:{},4:{}}\n",
    "\n",
    "max_iterations = 10000\n",
    "for i in range(1,5):\n",
    "    iterations = 100\n",
    "    while iterations<=max_iterations:\n",
    "        extracted_at_iteration[i][iterations] = []\n",
    "        accuracy_at_iteration[i][iterations] = []\n",
    "        iterations = iterations*2\n",
    "\n",
    "\n",
    "#print(extracted_at_iteration)\n",
    "\n",
    "for exp in g:\n",
    "    missing_chars = exp[1]\n",
    "    extracted_at_iteration_per_password = exp[9]\n",
    "    secrets = [list(d.keys())[0] for d in extracted_at_iteration_per_password]\n",
    "    for d in extracted_at_iteration_per_password:\n",
    "        secret = list(d.keys())[0]\n",
    "        for iterations in d[secret]:\n",
    "            extracted_at_iteration[missing_chars][iterations].append(d[secret][iterations])\n",
    "            #print(iterations, d[secret][iterations])\n",
    "      \n",
    "    for iterations in extracted_at_iteration[missing_chars]:\n",
    "        extracted = extracted_at_iteration[missing_chars][iterations]\n",
    "\n",
    "        secrets_shape = [word_shape(secret) for secret in secrets]\n",
    "        extracted_shape = [word_shape(secret) for secret in extracted]\n",
    "\n",
    "        accuracy = accuracy_score(secrets, extracted)\n",
    "        shape_accuracy = accuracy_score(secrets_shape, extracted_shape)\n",
    "\n",
    "        accuracy_at_iteration[missing_chars][iterations].append(accuracy)\n",
    "        accuracy_at_iteration[missing_chars][iterations].append(shape_accuracy)\n",
    "\n",
    "#         print(\"Accuracy = {}\".format(accuracy))\n",
    "#         print(\"Shape Accuracy = {}\".format(shape_accuracy))\n",
    "\n",
    "    "
   ]
  },
  {
   "cell_type": "code",
   "execution_count": 43,
   "id": "declared-exclusion",
   "metadata": {},
   "outputs": [
    {
     "data": {
      "text/plain": [
       "{1: {100: [0.78125, 0.9375],\n",
       "  200: [0.78125, 0.9375],\n",
       "  400: [0.78125, 0.9375],\n",
       "  800: [0.78125, 0.9375],\n",
       "  1600: [0.78125, 0.9375],\n",
       "  3200: [0.78125, 0.9375],\n",
       "  6400: [0.78125, 0.9375]},\n",
       " 2: {100: [0.02564102564102564, 0.6153846153846154],\n",
       "  200: [0.1282051282051282, 0.6666666666666666],\n",
       "  400: [0.07692307692307693, 0.5897435897435898],\n",
       "  800: [0.1794871794871795, 0.7692307692307693],\n",
       "  1600: [0.3333333333333333, 0.7948717948717948],\n",
       "  3200: [0.358974358974359, 0.7435897435897436],\n",
       "  6400: [0.3333333333333333, 0.717948717948718]},\n",
       " 3: {100: [0.0, 0.15],\n",
       "  200: [0.025, 0.275],\n",
       "  400: [0.0, 0.2],\n",
       "  800: [0.0, 0.25],\n",
       "  1600: [0.025, 0.325],\n",
       "  3200: [0.0, 0.4],\n",
       "  6400: [0.0, 0.325]},\n",
       " 4: {100: [0.0, 0.05],\n",
       "  200: [0.0, 0.05],\n",
       "  400: [0.0, 0.125],\n",
       "  800: [0.0, 0.1],\n",
       "  1600: [0.0, 0.15],\n",
       "  3200: [0.0, 0.2],\n",
       "  6400: [0.0, 0.15]}}"
      ]
     },
     "execution_count": 43,
     "metadata": {},
     "output_type": "execute_result"
    }
   ],
   "source": [
    "accuracy_at_iteration"
   ]
  },
  {
   "cell_type": "code",
   "execution_count": 46,
   "id": "known-equity",
   "metadata": {},
   "outputs": [
    {
     "name": "stdout",
     "output_type": "stream",
     "text": [
      "  1 2 3 4\n",
      "100 0.78125 0.02564102564102564 0.0 0.0\n",
      "200 0.78125 0.1282051282051282 0.025 0.0\n",
      "400 0.78125 0.07692307692307693 0.0 0.0\n",
      "800 0.78125 0.1794871794871795 0.0 0.0\n",
      "1600 0.78125 0.3333333333333333 0.025 0.0\n",
      "3200 0.78125 0.358974358974359 0.0 0.0\n",
      "6400 0.78125 0.3333333333333333 0.0 0.0\n",
      "  1 2 3 4\n",
      "100 0.9375 0.6153846153846154 0.15 0.05\n",
      "200 0.9375 0.6666666666666666 0.275 0.05\n",
      "400 0.9375 0.5897435897435898 0.2 0.125\n",
      "800 0.9375 0.7692307692307693 0.25 0.1\n",
      "1600 0.9375 0.7948717948717948 0.325 0.15\n",
      "3200 0.9375 0.7435897435897436 0.4 0.2\n",
      "6400 0.9375 0.717948717948718 0.325 0.15\n"
     ]
    }
   ],
   "source": [
    "print(\" \", \"1\", \"2\", \"3\", \"4\")\n",
    "for it in [100, 200, 400, 800, 1600, 3200, 6400]:\n",
    "    print(it, accuracy_at_iteration[1][it][0], accuracy_at_iteration[2][it][0], accuracy_at_iteration[3][it][0], accuracy_at_iteration[4][it][0])\n",
    "\n",
    "print(\" \", \"1\", \"2\", \"3\", \"4\")\n",
    "for it in [100, 200, 400, 800, 1600, 3200, 6400]:\n",
    "    print(it, accuracy_at_iteration[1][it][1], accuracy_at_iteration[2][it][1], accuracy_at_iteration[3][it][1], accuracy_at_iteration[4][it][1])\n"
   ]
  },
  {
   "cell_type": "code",
   "execution_count": 48,
   "id": "efficient-peripheral",
   "metadata": {},
   "outputs": [
    {
     "name": "stdout",
     "output_type": "stream",
     "text": [
      "1    2   3   4 \n",
      "0.9375  0.38461538461538464  0.125  0.05\n",
      "1    2   3   4 \n",
      "0.96875  0.6923076923076923  0.4  0.275\n"
     ]
    }
   ],
   "source": [
    "print(\"\"\"1    2   3   4 \n",
    "0.9375  0.38461538461538464  0.125  0.05\n",
    "1    2   3   4 \n",
    "0.96875  0.6923076923076923  0.4  0.275\"\"\")"
   ]
  },
  {
   "cell_type": "code",
   "execution_count": null,
   "id": "inclusive-dutch",
   "metadata": {},
   "outputs": [],
   "source": []
  }
 ],
 "metadata": {
  "kernelspec": {
   "display_name": "Python [conda env:spacy3] *",
   "language": "python",
   "name": "conda-env-spacy3-py"
  },
  "language_info": {
   "codemirror_mode": {
    "name": "ipython",
    "version": 3
   },
   "file_extension": ".py",
   "mimetype": "text/x-python",
   "name": "python",
   "nbconvert_exporter": "python",
   "pygments_lexer": "ipython3",
   "version": "3.6.12"
  }
 },
 "nbformat": 4,
 "nbformat_minor": 5
}
