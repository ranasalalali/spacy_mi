{
 "cells": [
  {
   "cell_type": "markdown",
   "id": "employed-decade",
   "metadata": {},
   "source": [
    "## CREDIT_CARD_NUMBER"
   ]
  },
  {
   "cell_type": "code",
   "execution_count": null,
   "id": "superb-longitude",
   "metadata": {},
   "outputs": [],
   "source": [
    "import random\n",
    "\n",
    "credit_card_number = \"\"\n",
    "\n",
    "def make_random_number(number_of_element):\n",
    "    random_numbers = []\n",
    "    for i in range(number_of_element):\n",
    "        random_numbers.append(random.randint(0, 9))\n",
    "    return random_numbers\n",
    "\n",
    "def luhn_algorithm():\n",
    "    random_master_int = make_random_number(13)\n",
    "    random_master_int.insert(0,5)\n",
    "    random_master_int.insert(1,4)\n",
    "    #print(random_master_int)\n",
    "    sum_even = []\n",
    "    sum_odd = []\n",
    "    for index,element in enumerate(random_master_int):\n",
    "        if index % 2 != 0:\n",
    "            #print(index)\n",
    "            r = random_master_int[index] * 2\n",
    "            character_string = list(str(r))\n",
    "            character_int = map(int, character_string)\n",
    "            sum_even.append(sum(character_int))\n",
    "        if index % 2 == 0:\n",
    "            sum_odd.append(element)\n",
    "    total_sum = sum(sum_even)+sum(sum_odd) * 9\n",
    "    random_master_int.append(total_sum % 10)\n",
    "    credit_card_number = ''.join(map(str, random_master_int))\n",
    "    return credit_card_number\n",
    "\n",
    "credit_cards = []\n",
    "for i in range(1,100000):\n",
    "    credit_cards.append(luhn_algorithm())\n",
    "\n",
    "len(list(set(credit_cards)))\n",
    "\n",
    "filename = \"100000-credit-card-numbers.txt\"\n",
    "with open(filename, 'w') as f:\n",
    "    for c in credit_cards:\n",
    "        f.write(\"%s\\n\" % c)"
   ]
  },
  {
   "cell_type": "markdown",
   "id": "talented-leather",
   "metadata": {},
   "source": [
    "## PHONE_NUMBERS"
   ]
  },
  {
   "cell_type": "code",
   "execution_count": 2,
   "id": "duplicate-syria",
   "metadata": {},
   "outputs": [
    {
     "name": "stdout",
     "output_type": "stream",
     "text": [
      "Enter Value of n: 100000\n"
     ]
    }
   ],
   "source": [
    "import random\n",
    "def random_phone_num_generator():\n",
    "    first = str(random.randint(100, 999))\n",
    "    second = str(random.randint(1, 888)).zfill(3)\n",
    "    last = (str(random.randint(1, 9998)).zfill(4))\n",
    "    while last in ['1111', '2222', '3333', '4444', '5555', '6666', '7777', '8888']:\n",
    "        last = (str(random.randint(1, 9998)).zfill(4))\n",
    "    return '{}-{}-{}'.format(first, second, last)\n",
    "n = int(input(\"Enter Value of n: \"))\n",
    "\n",
    "phone_numbers = []\n",
    "for i in range(0,n):\n",
    "    phone_numbers.append(random_phone_num_generator())\n",
    "\n",
    "filename = \"100000-phone-numbers.txt\"\n",
    "with open(filename, 'w') as f:\n",
    "    for ph in phone_numbers:\n",
    "        f.write(\"%s\\n\" % ph)"
   ]
  },
  {
   "cell_type": "code",
   "execution_count": 3,
   "id": "retained-chart",
   "metadata": {},
   "outputs": [
    {
     "name": "stdout",
     "output_type": "stream",
     "text": [
      "Enter Value of n: 100000\n"
     ]
    }
   ],
   "source": [
    "import random\n",
    "def random_ip_address_generator():\n",
    "    ip = \".\".join(map(str, (random.randint(0, 255) for _ in range(4))))\n",
    "    return ip\n",
    "\n",
    "n = int(input(\"Enter Value of n: \"))\n",
    "\n",
    "ip_addresses = []\n",
    "for i in range(0,n):\n",
    "    ip_addresses.append(random_ip_address_generator())\n",
    "\n",
    "filename = \"100000-ip-addresses.txt\"\n",
    "with open(filename, 'w') as f:\n",
    "    for ip in ip_addresses:\n",
    "        f.write(\"%s\\n\" % ip)"
   ]
  },
  {
   "cell_type": "code",
   "execution_count": null,
   "id": "beginning-intention",
   "metadata": {},
   "outputs": [],
   "source": []
  }
 ],
 "metadata": {
  "kernelspec": {
   "display_name": "Python [conda env:spacy3] *",
   "language": "python",
   "name": "conda-env-spacy3-py"
  },
  "language_info": {
   "codemirror_mode": {
    "name": "ipython",
    "version": 3
   },
   "file_extension": ".py",
   "mimetype": "text/x-python",
   "name": "python",
   "nbconvert_exporter": "python",
   "pygments_lexer": "ipython3",
   "version": "3.6.12"
  }
 },
 "nbformat": 4,
 "nbformat_minor": 5
}
