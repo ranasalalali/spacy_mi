{
 "cells": [
  {
   "cell_type": "code",
   "execution_count": 92,
   "id": "analyzed-style",
   "metadata": {},
   "outputs": [],
   "source": [
    "import spacy\n",
    "from spacy import Language\n",
    "from collections import defaultdict\n",
    "import operator\n",
    "import math\n",
    "from string import punctuation, ascii_letters, ascii_uppercase, ascii_lowercase, digits\n",
    "import random\n",
    "from itertools import *\n",
    "import numpy as np\n",
    "import os\n",
    "import matplotlib.pyplot as plt\n",
    "from numpy import asarray\n",
    "from numpy import exp\n",
    "from numpy.random import randn\n",
    "from numpy.random import rand\n",
    "from numpy.random import seed\n",
    "import errno\n",
    "from matplotlib import pyplot\n",
    "import re\n",
    "from Levenshtein import distance as levenshtein_distance\n",
    "from sklearn.metrics import accuracy_score, confusion_matrix\n",
    "#!python -m spacy info\n",
    "#!pip install spacy==3.0.5\n",
    "#!pip install spacy==3.0.3\n",
    "#!pip install sklearn\n",
    "from zxcvbn import zxcvbn"
   ]
  },
  {
   "cell_type": "code",
   "execution_count": 39,
   "id": "abroad-engine",
   "metadata": {},
   "outputs": [
    {
     "data": {
      "text/plain": [
       "{'password': 'qwertyui',\n",
       " 'guesses': Decimal('264'),\n",
       " 'guesses_log10': 2.421603926869831,\n",
       " 'sequence': [{'pattern': 'dictionary',\n",
       "   'i': 0,\n",
       "   'j': 7,\n",
       "   'token': 'qwertyui',\n",
       "   'matched_word': 'qwertyui',\n",
       "   'rank': 263,\n",
       "   'dictionary_name': 'passwords',\n",
       "   'reversed': False,\n",
       "   'l33t': False,\n",
       "   'base_guesses': 263,\n",
       "   'uppercase_variations': 1,\n",
       "   'l33t_variations': 1,\n",
       "   'guesses': 263,\n",
       "   'guesses_log10': 2.4199557484897576}],\n",
       " 'calc_time': datetime.timedelta(0, 0, 7302),\n",
       " 'crack_times_seconds': {'online_throttling_100_per_hour': Decimal('9504.000000000000527577981302'),\n",
       "  'online_no_throttling_10_per_second': Decimal('26.4'),\n",
       "  'offline_slow_hashing_1e4_per_second': Decimal('0.0264'),\n",
       "  'offline_fast_hashing_1e10_per_second': Decimal('2.64E-8')},\n",
       " 'crack_times_display': {'online_throttling_100_per_hour': '3 hours',\n",
       "  'online_no_throttling_10_per_second': '26 seconds',\n",
       "  'offline_slow_hashing_1e4_per_second': 'less than a second',\n",
       "  'offline_fast_hashing_1e10_per_second': 'less than a second'},\n",
       " 'score': 0,\n",
       " 'feedback': {'warning': 'This is a very common password.',\n",
       "  'suggestions': ['Add another word or two. Uncommon words are better.']}}"
      ]
     },
     "execution_count": 39,
     "metadata": {},
     "output_type": "execute_result"
    }
   ],
   "source": [
    "zxcvbn('qwertyui')"
   ]
  },
  {
   "cell_type": "code",
   "execution_count": 2,
   "id": "increased-myanmar",
   "metadata": {},
   "outputs": [],
   "source": [
    "def mkdir_p(path):\n",
    "    \"\"\"To make a directory given a path.\"\"\"\n",
    "    try:\n",
    "        os.makedirs(path)\n",
    "    except OSError as exc:  # Python >2.5\n",
    "        if exc.errno == errno.EEXIST and os.path.isdir(path):\n",
    "            pass\n",
    "        else:\n",
    "            raise"
   ]
  },
  {
   "cell_type": "code",
   "execution_count": 3,
   "id": "funded-stuff",
   "metadata": {},
   "outputs": [],
   "source": [
    "global combs \n",
    "combs = []\n",
    "\n",
    "def printAllKLength(set, k):\n",
    " \n",
    "    n = len(set)\n",
    "    printAllKLengthRec(set, \"\", n, k)\n",
    " \n",
    "# The main recursive method\n",
    "# to print all possible\n",
    "# strings of length k\n",
    "def printAllKLengthRec(set, prefix, n, k):\n",
    "     \n",
    "    # Base case: k is 0,\n",
    "    # print prefix\n",
    "    if (k == 0) :\n",
    "        return prefix\n",
    " \n",
    "    # One by one add all characters\n",
    "    # from set and recursively\n",
    "    # call for k equals to k-1\n",
    "    for i in range(n):\n",
    " \n",
    "        # Next character of input added\n",
    "        newPrefix = prefix + set[i]\n",
    "         \n",
    "        # k is decreased, because\n",
    "        # we have added a new character\n",
    "        combs.append(printAllKLengthRec(set, newPrefix, n, k - 1))\n"
   ]
  },
  {
   "cell_type": "code",
   "execution_count": 4,
   "id": "together-release",
   "metadata": {},
   "outputs": [],
   "source": [
    "def get_entities_for_text(model=None, text=\"\"):\n",
    "    doc = model(text)\n",
    "    print(\"Entities in '%s'\" % text)\n",
    "    entities = {}\n",
    "    for ent in doc.ents:\n",
    "        entities[ent.text] = ent.label_\n",
    "    return entities\n",
    "\n",
    "def get_scores_per_entity(model=None, texts=[],):\n",
    "    # Number of alternate analyses to consider. More is slower, and not necessarily better -- you need to experiment on your problem.\n",
    "    beam_width = 3\n",
    "    # This clips solutions at each step. We multiply the score of the top-ranked action by this value, and use the result as a threshold. This prevents the parser from exploring options that look very unlikely, saving a bit of efficiency. Accuracy may also improve, because we've trained on greedy objective.\n",
    "    beam_density = 0.0001 \n",
    "\n",
    "    ner = nlp.get_pipe('ner')\n",
    "    docs = nlp.make_doc(texts[0])\n",
    "    beams = ner.beam_parse([docs], beam_width=beam_width, beam_density=beam_density)\n",
    "    #beams = ner.predict([docs])\n",
    "    \n",
    "    entity_scores = []\n",
    "    for beam in beams:\n",
    "        score_dict = defaultdict(float)\n",
    "        for score, ents in ner.moves.get_beam_parses(beam):\n",
    "            for start, end, label in ents:\n",
    "                score_dict[(start, end, label)] += score\n",
    "        entity_scores.append(score_dict)\n",
    "    return entity_scores\n",
    "    \n",
    "    #return ner.scored_ents(beams)[0]\n",
    "\n",
    "def get_scores_per_entity(model=None, texts=[], beam_width=3, r_space=0, secret_token_index=None, secret_index=None, secret=None, LABEL=None):\n",
    "    \"\"\"Get probability scores for entities for a list of texts.\"\"\"\n",
    "    \n",
    "    nlp = model\n",
    "\n",
    "    # Beam_width - Number of alternate analyses to consider. More is slower, and not necessarily better -- you need to experiment on your problem.\n",
    "    # beam_density - This clips solutions at each step. We multiply the score of the top-ranked action by this value, and use the result as a threshold. This prevents the parser from exploring options that look very unlikely, saving a bit of efficiency. Accuracy may also improve, because we've trained on greedy objective.\n",
    "    beam_density = 0.0001 \n",
    "\n",
    "    score_per_combination = {}\n",
    "    exposure_per_combination = {}\n",
    "\n",
    "    ner = nlp.get_pipe('ner')\n",
    "\n",
    "    for text in texts:\n",
    "        doc = nlp.make_doc(text)\n",
    "        beams = ner.beam_parse([doc], beam_width=beam_width, beam_density=0.0001)\n",
    "        entity_scores = defaultdict(float)\n",
    "        total_score = 0\n",
    "        \n",
    "        for score, ents in ner.moves.get_beam_parses(beams[0]):\n",
    "            total_score += score\n",
    "            for start, end, label in ents:\n",
    "                entity_scores[(start, end, label)] += score\n",
    "        if (secret_token_index,secret_token_index+1,LABEL) not in entity_scores:\n",
    "            entity_scores[(secret_token_index,secret_token_index+1,LABEL)] = 0.0\n",
    "        normalized_beam_score = {dict_key: dict_value/total_score for dict_key, dict_value in entity_scores.items()}\n",
    "        score_per_combination[doc.text.split()[secret_index]] = normalized_beam_score[(secret_token_index,secret_token_index+1,LABEL)]\n",
    "    #print(score_per_combination[secret])\n",
    "\n",
    "    sorted_score_per_combination = dict(sorted(score_per_combination.items(), key=operator.itemgetter(1), reverse=True))\n",
    "    rank = 1\n",
    "    exposure_rank_secret = -1\n",
    "    score_secret = -1\n",
    "    exposure_secret = -1\n",
    "    for code, score in sorted_score_per_combination.items():\n",
    "        exposure = math.log2(r_space) - math.log2(rank)\n",
    "        exposure_per_combination[code] = exposure\n",
    "        if code == secret:\n",
    "            exposure_rank_secret = rank\n",
    "            score_secret = score\n",
    "            exposure_secret = exposure\n",
    "        rank += 1\n",
    "\n",
    "    return score_per_combination, exposure_per_combination, exposure_rank_secret, score_secret, exposure_secret\n"
   ]
  },
  {
   "cell_type": "code",
   "execution_count": 5,
   "id": "approximate-monte",
   "metadata": {},
   "outputs": [],
   "source": [
    "def generate_password_given_prefix_suffix(prefix=None, suffix=None, length=None,  upper=True, lower=True, numeric=True, special=False):\n",
    "    \n",
    "    passwords = []\n",
    "    if numeric and upper and lower:\n",
    "        set1 = ['0', '1', '2', '3', '4', '5', '6', '7', '8', '9']\n",
    "        set1.extend(set(ascii_lowercase))\n",
    "        set1.extend(set(ascii_uppercase))\n",
    "        printAllKLength(set1, length-4)\n",
    "        res = [i for i in combs if i]\n",
    "        for comb in res:\n",
    "            password = prefix + comb + suffix\n",
    "            passwords.append(password)\n",
    "    if upper:\n",
    "        pass\n",
    "    if lower:\n",
    "        pass\n",
    "    if special:\n",
    "        pass\n",
    "\n",
    "    res.clear()\n",
    "    combs.clear()\n",
    "    return passwords\n",
    "\n",
    "def generate_password_given_length(length=0, upper=True, lower=True, numeric=True, special=False):\n",
    "    passwords = []\n",
    "    if numeric and upper and lower:\n",
    "        set1 = ['0', '1', '2', '3', '4', '5', '6', '7', '8', '9']\n",
    "        set1.extend(set(ascii_lowercase))\n",
    "        set1.extend(set(ascii_uppercase))\n",
    "        printAllKLength(set1, length)\n",
    "        res = [i for i in combs if i]\n",
    "        for comb in res:\n",
    "            password = prefix + comb + suffix\n",
    "            passwords.append(password)\n",
    "    if upper:\n",
    "        pass\n",
    "    if lower:\n",
    "        pass\n",
    "    if special:\n",
    "        pass\n",
    "\n",
    "    res.clear()\n",
    "    combs.clear()\n",
    "    return passwords\n",
    "    "
   ]
  },
  {
   "cell_type": "code",
   "execution_count": 6,
   "id": "exact-uganda",
   "metadata": {},
   "outputs": [],
   "source": [
    "folder = \"models/20210406_spacy_3.0.5_with_password_abc123\"\n",
    "updated_nlp = spacy.load(folder)"
   ]
  },
  {
   "cell_type": "code",
   "execution_count": 7,
   "id": "reasonable-trade",
   "metadata": {},
   "outputs": [
    {
     "name": "stdout",
     "output_type": "stream",
     "text": [
      "3.0.5\n",
      "['Rana', \"'s\", 'secret', 'is', 'abc123']\n",
      "4\n",
      "3\n"
     ]
    }
   ],
   "source": [
    "secret = \"abc123\"\n",
    "#secret = \"x002kn13039\"\n",
    "text = \"Rana's secret is {}\".format(secret)\n",
    "texts = [text]\n",
    "\n",
    "length = len(secret)\n",
    "\n",
    "nlp = spacy.load('en_core_web_lg')\n",
    "print(spacy.__version__)\n",
    "doc = nlp(text)\n",
    "tokens = [str(token) for token in doc]\n",
    "print(tokens)\n",
    "secret_token_index = tokens.index(secret)\n",
    "print(secret_token_index)\n",
    "doc = nlp(text)\n",
    "LABEL = \"SECRET\"\n",
    "\n",
    "start_loc = 17\n",
    "end_loc = start_loc+length\n",
    "\n",
    "beam_width = 3\n",
    "\n",
    "secret_index = doc.text.split().index(secret)\n",
    "print(secret_index)"
   ]
  },
  {
   "cell_type": "code",
   "execution_count": 8,
   "id": "applicable-characterization",
   "metadata": {
    "scrolled": true
   },
   "outputs": [
    {
     "name": "stdout",
     "output_type": "stream",
     "text": [
      "Entities in 'Rana's secret is abc123'\n",
      "{'Rana': 'PERSON', 'abc123': 'PERSON'}\n",
      "0.9708132609044945\n"
     ]
    }
   ],
   "source": [
    "print(get_entities_for_text(model=nlp, text=text))\n",
    "#print(get_scores_per_entity(model=nlp, texts=[text]))\n",
    "\n",
    "score, exposure, exposure_rank_secret, score_secret, exposure_secret = get_scores_per_entity(model=updated_nlp, texts=texts, beam_width=3, r_space=len(texts), secret_token_index=secret_token_index, secret_index=secret_index, secret=secret, LABEL=LABEL)\n",
    "\n",
    "print(score_secret)"
   ]
  },
  {
   "cell_type": "code",
   "execution_count": 9,
   "id": "quarterly-metro",
   "metadata": {},
   "outputs": [],
   "source": [
    "def objective(x):\n",
    "    prefix = text[0:int(start_loc)]\n",
    "    suffix = text[int(end_loc):]\n",
    "    texts = []\n",
    "    texts.append(prefix+x+suffix)\n",
    "    score, exposure, exposure_rank_secret, score_secret, exposure_secret = get_scores_per_entity(model=updated_nlp, texts=texts, beam_width=3, r_space=len(texts), secret_token_index=secret_token_index, secret_index=secret_index, secret=secret, LABEL=LABEL)\n",
    "    return list(score.values())[0]"
   ]
  },
  {
   "cell_type": "code",
   "execution_count": 10,
   "id": "thick-trading",
   "metadata": {},
   "outputs": [],
   "source": [
    "prefix = secret[0]\n",
    "suffix = secret[-3:]\n",
    "\n",
    "passwords = generate_password_given_prefix_suffix(prefix=prefix, suffix=suffix, length=len(secret),  upper=True, lower=True, numeric=True, special=False)\n",
    "#passwords = generate_password_given_length(length=6, upper=True, lower=True, numeric=True, special=False)\n",
    "\n",
    "\n",
    "bounds = np.asarray([passwords])\n",
    "bounds = bounds.astype(object)                          "
   ]
  },
  {
   "cell_type": "code",
   "execution_count": 11,
   "id": "bizarre-american",
   "metadata": {},
   "outputs": [],
   "source": [
    "passwords_dist = [(password, levenshtein_distance(secret, password)) for password in passwords]"
   ]
  },
  {
   "cell_type": "code",
   "execution_count": 12,
   "id": "ignored-worker",
   "metadata": {},
   "outputs": [],
   "source": [
    "# generate an initial point\n",
    "best = bounds[0][random.randint(0,len(bounds))]\n",
    "# evaluate the initial point\n",
    "best_eval = objective(best)"
   ]
  },
  {
   "cell_type": "code",
   "execution_count": 152,
   "id": "thermal-mobile",
   "metadata": {},
   "outputs": [],
   "source": [
    "def generate_random_candidate(word, index_range, history):\n",
    "    indexes = list(range(index_range[0], len(word)-index_range[1]))\n",
    "    index = random.choice(indexes)\n",
    "    arr = list(word)\n",
    "    arr[index] = random.choices(ascii_letters+digits, k=1)[0]\n",
    "    #arr[index] = random.choices(digits, k=1)[0]\n",
    "    candidate = ''.join(arr)\n",
    "#     while candidate in history:\n",
    "#         index = random.choice(indexes)\n",
    "#         arr = list(word)\n",
    "#         arr[index] = random.choices(ascii_letters, k=1)[0]\n",
    "#         candidate = ''.join(arr)\n",
    "    return candidate"
   ]
  },
  {
   "cell_type": "code",
   "execution_count": 171,
   "id": "emotional-cliff",
   "metadata": {},
   "outputs": [],
   "source": [
    "def generate_r_candidate(current, index_range, history):\n",
    "    prefix = current[:index_range[0]]\n",
    "    suffix = current[index_range[1]:]\n",
    "    size = len(current) - (len(prefix)+len(suffix))\n",
    "    choices = ''.join(random.choices(ascii_letters+digits, k=size))\n",
    "    candidate = prefix+choices+suffix\n",
    "#     while candidate in history:\n",
    "#         choices = ''.join(random.choices(ascii_letters+digits, k=size))\n",
    "#         candidate = prefix+choices+suffix\n",
    "        \n",
    "        \n",
    "    return candidate"
   ]
  },
  {
   "cell_type": "code",
   "execution_count": 172,
   "id": "tutorial-speed",
   "metadata": {},
   "outputs": [],
   "source": [
    "def generate_candidate(current, index_range, history):\n",
    "    indexes = list(range(index_range[0], len(current)-index_range[1]))\n",
    "    while indexes:\n",
    "        index = random.choice(indexes)\n",
    "        prefix = current[:index]\n",
    "        suffix = current[index+1:]\n",
    "        rule = re.compile('{}(.*?){}'.format(prefix, suffix))\n",
    "        match = [re.findall(rule, x)[0] for x in history if re.findall(rule, x)]\n",
    "        character_set = ''.join(list(set(ascii_letters+digits).difference(set(match))))\n",
    "        if character_set:\n",
    "            #print(character_set)\n",
    "            candidate = prefix+str(random.choices(character_set, k=1)[0])+suffix\n",
    "            #print(candidate)\n",
    "            return candidate\n",
    "        else:\n",
    "            indexes.remove(index)\n",
    "    \n",
    "    random_candidate = generate_r_candidate(current, index_range, history)\n",
    "    return random_candidate"
   ]
  },
  {
   "cell_type": "code",
   "execution_count": 173,
   "id": "absolute-punishment",
   "metadata": {},
   "outputs": [
    {
     "name": "stdout",
     "output_type": "stream",
     "text": [
      "[1, 2]\n",
      "full\n",
      "[1]\n",
      "[]\n",
      "empty\n"
     ]
    }
   ],
   "source": [
    "index_range = [1, 3]\n",
    "indexes = list(range(1, 3))\n",
    "print(indexes)\n",
    "if indexes:\n",
    "    print(\"full\")\n",
    "indexes.remove(2)\n",
    "print(indexes)\n",
    "indexes.remove(1)\n",
    "print(indexes)\n",
    "if not indexes:\n",
    "    print(\"empty\")"
   ]
  },
  {
   "cell_type": "code",
   "execution_count": 174,
   "id": "direct-switzerland",
   "metadata": {},
   "outputs": [
    {
     "name": "stdout",
     "output_type": "stream",
     "text": [
      "wQmbiw\n"
     ]
    },
    {
     "data": {
      "text/plain": [
       "'aFc123'"
      ]
     },
     "execution_count": 174,
     "metadata": {},
     "output_type": "execute_result"
    }
   ],
   "source": [
    "history = ['aec123', 'afc123']\n",
    "print(''.join(random.choices(ascii_letters+digits, k=6)))\n",
    "generate_candidate('abc123', [1, 3], history)"
   ]
  },
  {
   "cell_type": "code",
   "execution_count": 175,
   "id": "acting-aurora",
   "metadata": {},
   "outputs": [],
   "source": [
    "# simulated annealing algorithm\n",
    "def simulated_annealing(objective, bounds, n_iterations, temp):\n",
    "    # length of password\n",
    "    length = 6\n",
    "    # generate an initial point\n",
    "    best = 'aaa123'\n",
    "    # best = ''.join(random.choices(ascii_letters+digits, k=6))\n",
    "    # best = bounds[0][random.randint(0,len(bounds))]\n",
    "    # evaluate the initial point\n",
    "    best_eval = objective(best)\n",
    "    # current working solution\n",
    "    curr, curr_eval = best, best_eval\n",
    "    print(curr, curr_eval)\n",
    "    # history\n",
    "    best_history = [curr]\n",
    "    history = {}\n",
    "    history[curr] = curr_eval\n",
    "    scores = [curr_eval]\n",
    "    # run the algorithm\n",
    "    for i in range(n_iterations):\n",
    "        # take a step\n",
    "        # candidate = generate_random_canditate(best, [1, 3], history)\n",
    "        # candidate = generate_r_candidate(best, [1, 3], history)\n",
    "        # print(candidate)\n",
    "        candidate = generate_candidate(best, [1, 3], history)\n",
    "        #print(len(history))\n",
    "        #print(candidate)\n",
    "        # print(candidate)\n",
    "        # history.append(candidate)\n",
    "        # candidate = curr + randn(len(bounds)) * step_size\n",
    "        # evaluate candidate point\n",
    "        candidate_eval = objective(candidate)\n",
    "        if candidate != best:\n",
    "            history[candidate] = candidate_eval\n",
    "        # print(candidate, candidate_eval)\n",
    "        if candidate == 'abc123':\n",
    "            print(candidate_eval)\n",
    "        # check for new best solution\n",
    "        if candidate_eval > best_eval:\n",
    "            # store new best point\n",
    "            best, best_eval = candidate, candidate_eval\n",
    "            # report progress\n",
    "            print('>%d f(%s) = %.5f' % (i, best, best_eval))\n",
    "            best_history.append(best)\n",
    "            scores.append(best_eval)\n",
    "        # difference between candidate and current point evaluation\n",
    "        diff = candidate_eval - curr_eval\n",
    "        # calculate temperature for current epoch\n",
    "        t = temp / float(i + 1)\n",
    "        # calculate metropolis acceptance criterion\n",
    "        metropolis = math.exp(-diff / t)\n",
    "        # check if we should keep the new point\n",
    "        if diff < 0 or rand() < metropolis:\n",
    "            # store the new current point\n",
    "            curr, curr_eval = candidate, candidate_eval\n",
    "    print(len(history))\n",
    "    return [best, best_eval, best_history, history, scores]\n",
    "\n",
    "# # stochastic hill climbing algorithm\n",
    "# def hillclimbing(objective, bounds, n_iterations, step_size):\n",
    "#     # length of password\n",
    "#     length = 6\n",
    "#     # generate an initial point\n",
    "#     solution = ''.join(random.choices(ascii_letters+digits, k=6))\n",
    "#     #solution = ''.join(random.choices(digits, k=6))\n",
    "#     # generate an initial point\n",
    "#     #solution = bounds[:, 0] + rand(len(bounds)) * (bounds[:, 1] - bounds[:, 0])\n",
    "#     # evaluate the initial point\n",
    "#     solution_eval = objective(solution)\n",
    "#     # history\n",
    "#     best_history = [solution]\n",
    "#     history = [solution]\n",
    "#     scores = [solution_eval]\n",
    "#     # run the hill climb\n",
    "#     for i in range(n_iterations):\n",
    "#         # take a step\n",
    "#         candidate = generate_random_canditate(curr, [0, 0], history)\n",
    "#         print(candidate)\n",
    "#         # evaluate candidate point\n",
    "#         candidte_eval = objective(candidate)\n",
    "#         # check if we should keep the new point\n",
    "#         if candidate_eval <= solution_eval:\n",
    "#             # store the new point\n",
    "#             solution, solution_eval = candidate, candidate_eval\n",
    "#             best_history.append(solution)\n",
    "#             scores.append(solution_eval)\n",
    "#             # report progress\n",
    "#             print('>%d f(%s) = %.5f' % (i, solution, solution_eval))\n",
    "#     return [solution, solution_eval, best_history, scores]"
   ]
  },
  {
   "cell_type": "code",
   "execution_count": 180,
   "id": "given-feelings",
   "metadata": {
    "scrolled": true
   },
   "outputs": [
    {
     "name": "stdout",
     "output_type": "stream",
     "text": [
      "aaa123 0.8790193559968782\n",
      ">5 f(ata123) = 0.89647\n",
      ">6 f(atz123) = 0.90150\n",
      ">17 f(azz123) = 0.92141\n",
      ">20 f(auz123) = 0.94667\n",
      ">387 f(aox123) = 0.95117\n",
      ">439 f(aoa123) = 0.95229\n",
      ">1314 f(agt123) = 0.95835\n",
      "0.9708132609044945\n",
      ">2739 f(abc123) = 0.97081\n",
      "2456\n"
     ]
    }
   ],
   "source": [
    "best, best_eval, history, all_hist, scores = simulated_annealing(objective, bounds, 3844, 10)"
   ]
  },
  {
   "cell_type": "code",
   "execution_count": null,
   "id": "charged-commissioner",
   "metadata": {},
   "outputs": [],
   "source": [
    "'all123' in all_hist"
   ]
  },
  {
   "cell_type": "code",
   "execution_count": 112,
   "id": "cooperative-style",
   "metadata": {},
   "outputs": [
    {
     "data": {
      "image/png": "[encoded data removed]",
      "text/plain": [
       "<Figure size 4000x3000 with 1 Axes>"
      ]
     },
     "metadata": {},
     "output_type": "display_data"
    }
   ],
   "source": [
    "fig = plt.figure(num=None, figsize=(8, 6), dpi=500, facecolor='w', edgecolor='k')\n",
    "plt.plot(scores, '.-')\n",
    "plt.xlabel('Improvement Number')\n",
    "plt.ylabel('Evaluation f(x)')\n",
    "plt.tight_layout()\n",
    "#image_name = secret.replace('.','(dot)')\n",
    "plt_dest = folder + \"/Simulated_Annealing_Steps.pdf\"\n",
    "plt.savefig(plt_dest,\n",
    "        bbox_inches=\"tight\")\n",
    "plt.show()"
   ]
  },
  {
   "cell_type": "code",
   "execution_count": 1,
   "id": "wireless-publicity",
   "metadata": {
    "scrolled": true
   },
   "outputs": [
    {
     "ename": "NameError",
     "evalue": "name 'plt' is not defined",
     "output_type": "error",
     "traceback": [
      "\u001b[0;31m---------------------------------------------------------------------------\u001b[0m",
      "\u001b[0;31mNameError\u001b[0m                                 Traceback (most recent call last)",
      "\u001b[0;32m<ipython-input-1-08380bdb502a>\u001b[0m in \u001b[0;36m<module>\u001b[0;34m\u001b[0m\n\u001b[0;32m----> 1\u001b[0;31m \u001b[0mfig\u001b[0m \u001b[0;34m=\u001b[0m \u001b[0mplt\u001b[0m\u001b[0;34m.\u001b[0m\u001b[0mfigure\u001b[0m\u001b[0;34m(\u001b[0m\u001b[0mnum\u001b[0m\u001b[0;34m=\u001b[0m\u001b[0;32mNone\u001b[0m\u001b[0;34m,\u001b[0m \u001b[0mfigsize\u001b[0m\u001b[0;34m=\u001b[0m\u001b[0;34m(\u001b[0m\u001b[0;36m8\u001b[0m\u001b[0;34m,\u001b[0m \u001b[0;36m6\u001b[0m\u001b[0;34m)\u001b[0m\u001b[0;34m,\u001b[0m \u001b[0mdpi\u001b[0m\u001b[0;34m=\u001b[0m\u001b[0;36m500\u001b[0m\u001b[0;34m,\u001b[0m \u001b[0mfacecolor\u001b[0m\u001b[0;34m=\u001b[0m\u001b[0;34m'w'\u001b[0m\u001b[0;34m,\u001b[0m \u001b[0medgecolor\u001b[0m\u001b[0;34m=\u001b[0m\u001b[0;34m'k'\u001b[0m\u001b[0;34m)\u001b[0m\u001b[0;34m\u001b[0m\u001b[0;34m\u001b[0m\u001b[0m\n\u001b[0m\u001b[1;32m      2\u001b[0m \u001b[0mX\u001b[0m \u001b[0;34m=\u001b[0m \u001b[0mpasswords\u001b[0m\u001b[0;34m\u001b[0m\u001b[0;34m\u001b[0m\u001b[0m\n\u001b[1;32m      3\u001b[0m \u001b[0mhv\u001b[0m \u001b[0;34m=\u001b[0m \u001b[0mnp\u001b[0m\u001b[0;34m.\u001b[0m\u001b[0mvectorize\u001b[0m\u001b[0;34m(\u001b[0m\u001b[0mobjective\u001b[0m\u001b[0;34m)\u001b[0m\u001b[0;34m\u001b[0m\u001b[0;34m\u001b[0m\u001b[0m\n\u001b[1;32m      4\u001b[0m \u001b[0;31m#plt.plot(X, hv(X))\u001b[0m\u001b[0;34m\u001b[0m\u001b[0;34m\u001b[0m\u001b[0;34m\u001b[0m\u001b[0m\n\u001b[1;32m      5\u001b[0m \u001b[0mplt\u001b[0m\u001b[0;34m.\u001b[0m\u001b[0mxlabel\u001b[0m\u001b[0;34m(\u001b[0m\u001b[0;34m'Search Space'\u001b[0m\u001b[0;34m)\u001b[0m\u001b[0;34m\u001b[0m\u001b[0;34m\u001b[0m\u001b[0m\n",
      "\u001b[0;31mNameError\u001b[0m: name 'plt' is not defined"
     ]
    }
   ],
   "source": [
    "fig = plt.figure(num=None, figsize=(8, 6), dpi=500, facecolor='w', edgecolor='k')\n",
    "X = passwords\n",
    "hv = np.vectorize(objective)\n",
    "#plt.plot(X, hv(X))\n",
    "plt.xlabel('Search Space')\n",
    "plt.ylabel('Evaluation f(x)')\n",
    "x_1 = []\n",
    "y_1 = []\n",
    "x_2 = []\n",
    "y_2 = []\n",
    "for password in passwords:\n",
    "    if levenshtein_distance(secret, password) == 1:\n",
    "        x_1.append(password)\n",
    "        y_1.append(objective(password))\n",
    "        \n",
    "    elif levenshtein_distance(secret, password) == 2:\n",
    "        x_2.append(password)\n",
    "        y_2.append(objective(password))\n",
    "        \n",
    "plt.scatter(x_2, y_2, marker='v', color='orange', alpha=0.5, label='2-LevenshteinDistance')\n",
    "plt.scatter(x_1, y_1, marker='o', color='black', alpha=0.5, label='1-LevenshteinDistance')\n",
    "plt.scatter(best, best_eval, marker = 'X', color='green', label='Global Maxima')\n",
    "plt.legend()\n",
    "plt.plot(history, scores)\n",
    "plt_dest = folder + \"/Simulated_Annealing_Walkthrough.pdf\"\n",
    "#plt_dest = folder + \"/Simulated_Annealing_Distance_Scores.pdf\"\n",
    "plt.savefig(plt_dest,\n",
    "        bbox_inches=\"tight\")\n",
    "plt.show()"
   ]
  },
  {
   "cell_type": "code",
   "execution_count": 2,
   "id": "alpha-supplier",
   "metadata": {},
   "outputs": [],
   "source": [
    "def word_shape(text=None):\n",
    "    if len(text) >= 100:\n",
    "        return \"LONG\"\n",
    "    shape = []\n",
    "    last = \"\"\n",
    "    shape_char = \"\"\n",
    "    seq = 0\n",
    "    for char in text:\n",
    "        if char.isalpha():\n",
    "            if char.isupper():\n",
    "                shape_char = \"X\"\n",
    "            else:\n",
    "                shape_char = \"x\"\n",
    "        elif char.isdigit():\n",
    "            shape_char = \"d\"\n",
    "        else:\n",
    "            shape_char = char\n",
    "        if shape_char == last:\n",
    "            seq += 1\n",
    "        else:\n",
    "            seq = 0\n",
    "            last = shape_char\n",
    "        if seq < 4:\n",
    "            shape.append(shape_char)\n",
    "    return \"\".join(shape)"
   ]
  },
  {
   "cell_type": "code",
   "execution_count": 5,
   "id": "seventh-fashion",
   "metadata": {},
   "outputs": [],
   "source": [
    "secrets   = ['abc123', 'aXY123', 'aRq123', 'a6a123', 'aKb123', 'agL123', 'aBv123', 'aYL123', 'aiu123', 'aln123', 'aSu123', 'aOR123', 'a1O123', 'ayN123', 'aDs123', 'axR123', 'a0x123', 'aJb123', 'aWi123', 'aX5123', 'a8X123', 'aoo123', 'aMK123', 'afN123', 'aVl123', 'adY123', 'aZl123', 'aPO123', 'a6f123', 'atB123', 'a0p123', 'aMv123', 'aiQ123', 'a0R123', 'a50123', 'aAV123', 'acK123', 'aNM123', 'a5I123', 'aOJ123', 'aBv123', 'aBC123', 'aLe123', 'am9123', 'a1Z123', 'aTq123', 'aCy123', 'aHi123', 'a9R123', 'a1N123']\n",
    "extracted = ['abc123', 'aXY123', 'aRq123', 'a6a123', 'aKb123', 'ahP123', 'aBv123', 'aXX123', 'aiu123', 'awk123', 'aSu123', 'aOR123', 'a1O123', 'ayn123', 'aXx123', 'acJ123', 'a0x123', 'aJb123', 'aWi123', 'aX5123', 'a8X123', 'ank123', 'aMK123', 'avS123', 'aKv123', 'a0r123', 'aHm123', 'aPO123', 'aZX123', 'atB123', 'a0p123', 'aTx123', 'aaV123', 'a0R123', 'a50123', 'aaV123', 'ap5123', 'aNM123', 'a5I123', 'aDZ123', 'a0g123', 'aBC123', 'aFv123', 'aLT123', 'a5R123', 'aDi123', 'aJb123', 'aQa123', 'a9R123', 'a1N123']"
   ]
  },
  {
   "cell_type": "code",
   "execution_count": 6,
   "id": "available-german",
   "metadata": {},
   "outputs": [],
   "source": [
    "from sklearn.metrics import accuracy_score"
   ]
  },
  {
   "cell_type": "code",
   "execution_count": 8,
   "id": "treated-literacy",
   "metadata": {},
   "outputs": [],
   "source": [
    "secrets_shape = [word_shape(secret) for secret in secrets]\n",
    "extracted_shape = [word_shape(secret) for secret in extracted]"
   ]
  },
  {
   "cell_type": "code",
   "execution_count": 9,
   "id": "wicked-trauma",
   "metadata": {},
   "outputs": [
    {
     "data": {
      "text/plain": [
       "0.86"
      ]
     },
     "execution_count": 9,
     "metadata": {},
     "output_type": "execute_result"
    }
   ],
   "source": [
    "accuracy_score(secrets_shape, extracted_shape)"
   ]
  },
  {
   "cell_type": "code",
   "execution_count": 12,
   "id": "fallen-backing",
   "metadata": {},
   "outputs": [],
   "source": [
    "l1 = [1,2,3,4,5]\n",
    "l2 = [2,3,4,5,7]\n",
    "l3 = [4,5,6,7,8]\n",
    "\n",
    "iterable = [l1,l2,l3]\n",
    "\n",
    "l3 = list(zip(*iterable))"
   ]
  },
  {
   "cell_type": "code",
   "execution_count": 13,
   "id": "danish-external",
   "metadata": {},
   "outputs": [
    {
     "data": {
      "text/plain": [
       "[(1, 2, 4), (2, 3, 5), (3, 4, 6), (4, 5, 7), (5, 7, 8)]"
      ]
     },
     "execution_count": 13,
     "metadata": {},
     "output_type": "execute_result"
    }
   ],
   "source": [
    "l3"
   ]
  },
  {
   "cell_type": "code",
   "execution_count": 21,
   "id": "featured-swiss",
   "metadata": {},
   "outputs": [
    {
     "name": "stdout",
     "output_type": "stream",
     "text": [
      "2.3333333333333335\n",
      "3.3333333333333335\n",
      "4.333333333333333\n",
      "5.333333333333333\n",
      "6.666666666666667\n"
     ]
    }
   ],
   "source": [
    "avg_l = []\n",
    "for l in l3:\n",
    "    print(np.mean(np.array(l)))\n",
    "    avg_l.append(np.mean(np.array(l)))"
   ]
  },
  {
   "cell_type": "code",
   "execution_count": 23,
   "id": "sonic-teach",
   "metadata": {},
   "outputs": [
    {
     "data": {
      "text/plain": [
       "[2.3333333333333335,\n",
       " 3.3333333333333335,\n",
       " 4.333333333333333,\n",
       " 5.333333333333333,\n",
       " 6.666666666666667]"
      ]
     },
     "execution_count": 23,
     "metadata": {},
     "output_type": "execute_result"
    }
   ],
   "source": [
    "avg_l"
   ]
  },
  {
   "cell_type": "code",
   "execution_count": 54,
   "id": "specified-product",
   "metadata": {},
   "outputs": [
    {
     "data": {
      "text/plain": [
       "[<matplotlib.lines.Line2D at 0x7fb9a5ed7828>]"
      ]
     },
     "execution_count": 54,
     "metadata": {},
     "output_type": "execute_result"
    },
    {
     "data": {
      "image/png": "[encoded data removed]",
      "text/plain": [
       "<Figure size 432x288 with 1 Axes>"
      ]
     },
     "metadata": {
      "needs_background": "light"
     },
     "output_type": "display_data"
    }
   ],
   "source": [
    "plt.figure()\n",
    "\n",
    "l1 = [1,2]\n",
    "l2 = [4,2]\n",
    "l3 = [3,3]\n",
    "\n",
    "iterable = [l1,l2,l3]\n",
    "plt.plot(l1, l2)"
   ]
  },
  {
   "cell_type": "code",
   "execution_count": 55,
   "id": "tight-tulsa",
   "metadata": {},
   "outputs": [],
   "source": [
    "zipped = list(zip(*iterable))"
   ]
  },
  {
   "cell_type": "code",
   "execution_count": 56,
   "id": "sapphire-wallace",
   "metadata": {},
   "outputs": [
    {
     "data": {
      "text/plain": [
       "[(1, 4, 3), (2, 2, 3)]"
      ]
     },
     "execution_count": 56,
     "metadata": {},
     "output_type": "execute_result"
    }
   ],
   "source": [
    "zipped"
   ]
  },
  {
   "cell_type": "code",
   "execution_count": 61,
   "id": "common-mining",
   "metadata": {},
   "outputs": [],
   "source": [
    "res = sorted(zipped, key = lambda x: x[0])"
   ]
  },
  {
   "cell_type": "code",
   "execution_count": 62,
   "id": "restricted-signal",
   "metadata": {},
   "outputs": [
    {
     "data": {
      "text/plain": [
       "[(1, 4, 3), (2, 2, 3)]"
      ]
     },
     "execution_count": 62,
     "metadata": {},
     "output_type": "execute_result"
    }
   ],
   "source": [
    "res"
   ]
  },
  {
   "cell_type": "code",
   "execution_count": 35,
   "id": "basic-ladder",
   "metadata": {},
   "outputs": [
    {
     "data": {
      "text/plain": [
       "[<matplotlib.lines.Line2D at 0x7fb9a502fc18>]"
      ]
     },
     "execution_count": 35,
     "metadata": {},
     "output_type": "execute_result"
    },
    {
     "data": {
      "image/png": "[encoded data removed]",
      "text/plain": [
       "<Figure size 432x288 with 1 Axes>"
      ]
     },
     "metadata": {
      "needs_background": "light"
     },
     "output_type": "display_data"
    }
   ],
   "source": [
    "x = [i[0] for i in res]\n",
    "y = [i[1] for i in res]\n",
    "plt.plot(x, y)"
   ]
  },
  {
   "cell_type": "code",
   "execution_count": 2,
   "id": "korean-surgeon",
   "metadata": {},
   "outputs": [
    {
     "data": {
      "text/plain": [
       "[1, 2, 3, 4, 5]"
      ]
     },
     "execution_count": 2,
     "metadata": {},
     "output_type": "execute_result"
    }
   ],
   "source": [
    "insertions = 5\n",
    "list(range(1,insertions+1))"
   ]
  },
  {
   "cell_type": "code",
   "execution_count": 36,
   "id": "vital-london",
   "metadata": {},
   "outputs": [],
   "source": [
    "epoch_rank_per_insertion = {insertion:{} for insertion in range(1,insertions+1)}\n",
    "\n",
    "#epoch_rank_per_insertion = {insertion:{epoch:[] for epoch in range(1,50)} for insertion in range(1,insertions+1)}\n"
   ]
  },
  {
   "cell_type": "code",
   "execution_count": 37,
   "id": "brave-parallel",
   "metadata": {
    "scrolled": true
   },
   "outputs": [
    {
     "data": {
      "text/plain": [
       "{1: {}, 2: {}, 3: {}, 4: {}, 5: {}}"
      ]
     },
     "execution_count": 37,
     "metadata": {},
     "output_type": "execute_result"
    }
   ],
   "source": [
    "epoch_rank_per_insertion"
   ]
  },
  {
   "cell_type": "code",
   "execution_count": 27,
   "id": "heavy-cricket",
   "metadata": {},
   "outputs": [],
   "source": [
    "\n",
    "for insertion in epoch_rank_per_insertion:\n",
    "    epoch_rank_per_insertion[insertion] = {}"
   ]
  },
  {
   "cell_type": "code",
   "execution_count": 40,
   "id": "divided-brush",
   "metadata": {},
   "outputs": [],
   "source": [
    "epoch = 1\n",
    "for insertion in epoch_rank_per_insertion:\n",
    "    if epoch in epoch_rank_per_insertion[insertion]:\n",
    "        epoch_rank_per_insertion[insertion][epoch].append(123)\n",
    "    else:\n",
    "        epoch_rank_per_insertion[insertion][epoch] = []\n",
    "        epoch_rank_per_insertion[insertion][epoch].append(123)"
   ]
  },
  {
   "cell_type": "code",
   "execution_count": 41,
   "id": "german-spelling",
   "metadata": {},
   "outputs": [
    {
     "data": {
      "text/plain": [
       "{1: {2: [123], 1: [123]},\n",
       " 2: {2: [123], 1: [123]},\n",
       " 3: {2: [123], 1: [123]},\n",
       " 4: {2: [123], 1: [123]},\n",
       " 5: {2: [123], 1: [123]}}"
      ]
     },
     "execution_count": 41,
     "metadata": {},
     "output_type": "execute_result"
    }
   ],
   "source": [
    "epoch_rank_per_insertion"
   ]
  },
  {
   "cell_type": "code",
   "execution_count": 82,
   "id": "biblical-porter",
   "metadata": {},
   "outputs": [
    {
     "name": "stdout",
     "output_type": "stream",
     "text": [
      "[1] [123.0] 1\n",
      "[1] [123.0] 2\n",
      "[1] [123.0] 3\n",
      "[1] [123.0] 4\n",
      "[1] [123.0] 5\n"
     ]
    }
   ],
   "source": [
    "for insertion in epoch_rank_per_insertion:\n",
    "    epochs = []\n",
    "    ranks = []\n",
    "    for epoch in epoch_rank_per_insertion[insertion]:\n",
    "        epochs.append(epoch)\n",
    "        avg_rank = np.mean(np.array(epoch_rank_per_insertion[insertion][epoch]))\n",
    "        epoch_rank_per_insertion[insertion][epoch] = avg_rank\n",
    "        ranks.append(avg_rank)\n",
    "    #epochs = list(epoch_rank_per_insertion[insertion].keys())\n",
    "    #ranks = list(epoch_rank_per_insertion[insertion].values())\n",
    "    print(epochs, ranks, insertion)"
   ]
  },
  {
   "cell_type": "code",
   "execution_count": 77,
   "id": "durable-barbados",
   "metadata": {},
   "outputs": [
    {
     "data": {
      "text/plain": [
       "{1: {1: 123.0}, 2: {1: 123.0}, 3: {1: 123.0}, 4: {1: 123.0}, 5: {1: 123.0}}"
      ]
     },
     "execution_count": 77,
     "metadata": {},
     "output_type": "execute_result"
    }
   ],
   "source": [
    "epoch_rank_per_insertion"
   ]
  },
  {
   "cell_type": "code",
   "execution_count": 1,
   "id": "loving-department",
   "metadata": {},
   "outputs": [],
   "source": [
    "import random"
   ]
  },
  {
   "cell_type": "code",
   "execution_count": 18,
   "id": "unauthorized-chassis",
   "metadata": {},
   "outputs": [
    {
     "data": {
      "text/plain": [
       "5"
      ]
     },
     "execution_count": 18,
     "metadata": {},
     "output_type": "execute_result"
    }
   ],
   "source": [
    "random.choices(list(range(2,6)), k=1)[0]"
   ]
  },
  {
   "cell_type": "code",
   "execution_count": 20,
   "id": "static-devon",
   "metadata": {
    "scrolled": true
   },
   "outputs": [
    {
     "data": {
      "text/plain": [
       "[100,\n",
       " 300,\n",
       " 500,\n",
       " 700,\n",
       " 900,\n",
       " 1100,\n",
       " 1300,\n",
       " 1500,\n",
       " 1700,\n",
       " 1900,\n",
       " 2100,\n",
       " 2300,\n",
       " 2500,\n",
       " 2700,\n",
       " 2900,\n",
       " 3100,\n",
       " 3300,\n",
       " 3500,\n",
       " 3700,\n",
       " 3900,\n",
       " 4100,\n",
       " 4300,\n",
       " 4500,\n",
       " 4700,\n",
       " 4900,\n",
       " 5100,\n",
       " 5300,\n",
       " 5500,\n",
       " 5700,\n",
       " 5900,\n",
       " 6100,\n",
       " 6300,\n",
       " 6500,\n",
       " 6700,\n",
       " 6900,\n",
       " 7100,\n",
       " 7300,\n",
       " 7500,\n",
       " 7700,\n",
       " 7900,\n",
       " 8100,\n",
       " 8300,\n",
       " 8500,\n",
       " 8700,\n",
       " 8900,\n",
       " 9100,\n",
       " 9300,\n",
       " 9500,\n",
       " 9700,\n",
       " 9900]"
      ]
     },
     "execution_count": 20,
     "metadata": {},
     "output_type": "execute_result"
    }
   ],
   "source": [
    "i = 100\n",
    "list(range(i,10000,i*2))"
   ]
  },
  {
   "cell_type": "code",
   "execution_count": 34,
   "id": "foster-milton",
   "metadata": {},
   "outputs": [],
   "source": [
    "def word_shape(text=None):\n",
    "    if len(text) >= 100:\n",
    "        return \"LONG\"\n",
    "    shape = []\n",
    "    last = \"\"\n",
    "    shape_char = \"\"\n",
    "    seq = 0\n",
    "    for char in text:\n",
    "        if char.isalpha():\n",
    "            if char.isupper():\n",
    "                shape_char = \"X\"\n",
    "            else:\n",
    "                shape_char = \"x\"\n",
    "        elif char.isdigit():\n",
    "            shape_char = \"d\"\n",
    "        else:\n",
    "            shape_char = char\n",
    "        if shape_char == last:\n",
    "            seq += 1\n",
    "        else:\n",
    "            seq = 0\n",
    "            last = shape_char\n",
    "        if seq < 4:\n",
    "            shape.append(shape_char)\n",
    "    return \"\".join(shape)"
   ]
  },
  {
   "cell_type": "code",
   "execution_count": 93,
   "id": "gorgeous-newton",
   "metadata": {},
   "outputs": [],
   "source": [
    "import pickle\n",
    "from sklearn.metrics import accuracy_score\n",
    "path = \"Results/Annealing Extraction/\""
   ]
  },
  {
   "cell_type": "code",
   "execution_count": 89,
   "id": "bearing-madison",
   "metadata": {},
   "outputs": [],
   "source": [
    "path = \"Annealing Results/20210719_a_123_1_Missing_CHARS_100_iterations_Passwords_Simulated_Annealing_Extraction.pickle\""
   ]
  },
  {
   "cell_type": "code",
   "execution_count": 90,
   "id": "still-worth",
   "metadata": {},
   "outputs": [],
   "source": [
    "results = pickle.load(open(path, 'rb'))"
   ]
  },
  {
   "cell_type": "code",
   "execution_count": 91,
   "id": "virtual-humor",
   "metadata": {},
   "outputs": [
    {
     "data": {
      "text/plain": [
       "[['ag123',\n",
       "  'am123',\n",
       "  'aW123',\n",
       "  'ab123',\n",
       "  'aS123',\n",
       "  'a4123',\n",
       "  'aT123',\n",
       "  'aL123',\n",
       "  'au123',\n",
       "  'aj123',\n",
       "  'a1123',\n",
       "  'aA123',\n",
       "  'a7123',\n",
       "  'aj123',\n",
       "  'aw123',\n",
       "  'ap123',\n",
       "  'aH123',\n",
       "  'aB123',\n",
       "  'aR123',\n",
       "  'a2123',\n",
       "  'an123',\n",
       "  'aX123',\n",
       "  'al123',\n",
       "  'az123',\n",
       "  'a0123',\n",
       "  'ae123',\n",
       "  'aa123',\n",
       "  'ao123',\n",
       "  'a2123',\n",
       "  'ao123',\n",
       "  'a5123',\n",
       "  'a6123'],\n",
       " 1,\n",
       " ['ag123',\n",
       "  'am123',\n",
       "  'aP123',\n",
       "  'ab123',\n",
       "  'aS123',\n",
       "  'a4123',\n",
       "  'aT123',\n",
       "  'aL123',\n",
       "  'au123',\n",
       "  'aj123',\n",
       "  'a1123',\n",
       "  'aA123',\n",
       "  'a7123',\n",
       "  'aj123',\n",
       "  'ap123',\n",
       "  'ap123',\n",
       "  'ap123',\n",
       "  'aB123',\n",
       "  'aR123',\n",
       "  'a2123',\n",
       "  'ap123',\n",
       "  'aD123',\n",
       "  'al123',\n",
       "  'aP123',\n",
       "  'a0123',\n",
       "  'ae123',\n",
       "  'aa123',\n",
       "  'av123',\n",
       "  'a2123',\n",
       "  'ap123',\n",
       "  'a5123',\n",
       "  'a6123'],\n",
       " [0.938457177480144,\n",
       "  0.9413925287145067,\n",
       "  0.9877903464082252,\n",
       "  0.96729332973992,\n",
       "  0.9974023441579422,\n",
       "  0.984515487951111,\n",
       "  0.9886362166951271,\n",
       "  0.9922334693658501,\n",
       "  0.9554564255599598,\n",
       "  0.984713656879805,\n",
       "  0.9829120622417797,\n",
       "  0.9953426083801958,\n",
       "  0.9570882315870732,\n",
       "  0.9910124210752139,\n",
       "  0.9546647420895767,\n",
       "  0.9948991688075458,\n",
       "  0.9712316574584038,\n",
       "  0.9901533651720601,\n",
       "  0.9902330747954028,\n",
       "  0.9803598731757844,\n",
       "  0.9843636720534304,\n",
       "  0.9840972701194843,\n",
       "  0.9666474152481817,\n",
       "  0.895230030923496,\n",
       "  0.9163087765145931,\n",
       "  0.9568930549957765,\n",
       "  0.9904439112460643,\n",
       "  0.9243450142916322,\n",
       "  0.9659833747623939,\n",
       "  0.9559622051082982,\n",
       "  0.9252630437708388,\n",
       "  0.9660106101161577],\n",
       " [0.938457177480144,\n",
       "  0.9413925287145067,\n",
       "  0.9939626399869188,\n",
       "  0.96729332973992,\n",
       "  0.9974023441579422,\n",
       "  0.984515487951111,\n",
       "  0.9886362166951271,\n",
       "  0.9922334693658501,\n",
       "  0.9554564255599598,\n",
       "  0.984713656879805,\n",
       "  0.9829120622417797,\n",
       "  0.9953426083801958,\n",
       "  0.9570882315870732,\n",
       "  0.9910124210752139,\n",
       "  0.9548858487127216,\n",
       "  0.9948991688075458,\n",
       "  0.972895757279717,\n",
       "  0.9901533651720601,\n",
       "  0.9902330747954028,\n",
       "  0.9803598731757844,\n",
       "  0.9848913749885742,\n",
       "  0.9845771501568593,\n",
       "  0.9666474152481817,\n",
       "  0.9154416720720249,\n",
       "  0.9163087765145931,\n",
       "  0.9568930549957765,\n",
       "  0.9904439112460643,\n",
       "  0.9265753825967743,\n",
       "  0.9659833747623939,\n",
       "  0.9644503001661977,\n",
       "  0.9252630437708388,\n",
       "  0.9660106101161577],\n",
       " ['xxddd',\n",
       "  'xxddd',\n",
       "  'xXddd',\n",
       "  'xxddd',\n",
       "  'xXddd',\n",
       "  'xdddd',\n",
       "  'xXddd',\n",
       "  'xXddd',\n",
       "  'xxddd',\n",
       "  'xxddd',\n",
       "  'xdddd',\n",
       "  'xXddd',\n",
       "  'xdddd',\n",
       "  'xxddd',\n",
       "  'xxddd',\n",
       "  'xxddd',\n",
       "  'xXddd',\n",
       "  'xXddd',\n",
       "  'xXddd',\n",
       "  'xdddd',\n",
       "  'xxddd',\n",
       "  'xXddd',\n",
       "  'xxddd',\n",
       "  'xxddd',\n",
       "  'xdddd',\n",
       "  'xxddd',\n",
       "  'xxddd',\n",
       "  'xxddd',\n",
       "  'xdddd',\n",
       "  'xxddd',\n",
       "  'xdddd',\n",
       "  'xdddd'],\n",
       " ['xxddd',\n",
       "  'xxddd',\n",
       "  'xXddd',\n",
       "  'xxddd',\n",
       "  'xXddd',\n",
       "  'xdddd',\n",
       "  'xXddd',\n",
       "  'xXddd',\n",
       "  'xxddd',\n",
       "  'xxddd',\n",
       "  'xdddd',\n",
       "  'xXddd',\n",
       "  'xdddd',\n",
       "  'xxddd',\n",
       "  'xxddd',\n",
       "  'xxddd',\n",
       "  'xxddd',\n",
       "  'xXddd',\n",
       "  'xXddd',\n",
       "  'xdddd',\n",
       "  'xxddd',\n",
       "  'xXddd',\n",
       "  'xxddd',\n",
       "  'xXddd',\n",
       "  'xdddd',\n",
       "  'xxddd',\n",
       "  'xxddd',\n",
       "  'xxddd',\n",
       "  'xdddd',\n",
       "  'xxddd',\n",
       "  'xdddd',\n",
       "  'xdddd'],\n",
       " ['ag123',\n",
       "  'am123',\n",
       "  'aw123',\n",
       "  'ab123',\n",
       "  'as123',\n",
       "  'a4123',\n",
       "  'at123',\n",
       "  'al123',\n",
       "  'au123',\n",
       "  'aj123',\n",
       "  'a1123',\n",
       "  'aa123',\n",
       "  'a7123',\n",
       "  'aj123',\n",
       "  'aw123',\n",
       "  'ap123',\n",
       "  'ah123',\n",
       "  'ab123',\n",
       "  'ar123',\n",
       "  'a2123',\n",
       "  'an123',\n",
       "  'ax123',\n",
       "  'al123',\n",
       "  'az123',\n",
       "  'a0123',\n",
       "  'ae123',\n",
       "  'aa123',\n",
       "  'ao123',\n",
       "  'a2123',\n",
       "  'ao123',\n",
       "  'a5123',\n",
       "  'a6123'],\n",
       " ['ag123',\n",
       "  'am123',\n",
       "  'ap123',\n",
       "  'ab123',\n",
       "  'as123',\n",
       "  'a4123',\n",
       "  'at123',\n",
       "  'al123',\n",
       "  'au123',\n",
       "  'aj123',\n",
       "  'a1123',\n",
       "  'aa123',\n",
       "  'a7123',\n",
       "  'aj123',\n",
       "  'ap123',\n",
       "  'ap123',\n",
       "  'ap123',\n",
       "  'ab123',\n",
       "  'ar123',\n",
       "  'a2123',\n",
       "  'ap123',\n",
       "  'ad123',\n",
       "  'al123',\n",
       "  'ap123',\n",
       "  'a0123',\n",
       "  'ae123',\n",
       "  'aa123',\n",
       "  'av123',\n",
       "  'a2123',\n",
       "  'ap123',\n",
       "  'a5123',\n",
       "  'a6123'],\n",
       " [{'ag123': {100: 'ag123'}},\n",
       "  {'am123': {100: 'am123'}},\n",
       "  {'aW123': {100: 'aP123'}},\n",
       "  {'ab123': {100: 'ab123'}},\n",
       "  {'aS123': {100: 'aS123'}},\n",
       "  {'a4123': {100: 'a4123'}},\n",
       "  {'aT123': {100: 'aT123'}},\n",
       "  {'aL123': {100: 'aL123'}},\n",
       "  {'au123': {100: 'au123'}},\n",
       "  {'aj123': {100: 'aj123'}},\n",
       "  {'a1123': {100: 'a1123'}},\n",
       "  {'aA123': {100: 'aA123'}},\n",
       "  {'a7123': {100: 'a7123'}},\n",
       "  {'aj123': {100: 'aj123'}},\n",
       "  {'aw123': {100: 'ap123'}},\n",
       "  {'ap123': {100: 'ap123'}},\n",
       "  {'aH123': {100: 'ap123'}},\n",
       "  {'aB123': {100: 'aB123'}},\n",
       "  {'aR123': {100: 'aR123'}},\n",
       "  {'a2123': {100: 'a2123'}},\n",
       "  {'an123': {100: 'ap123'}},\n",
       "  {'aX123': {100: 'aD123'}},\n",
       "  {'al123': {100: 'al123'}},\n",
       "  {'az123': {100: 'aP123'}},\n",
       "  {'a0123': {100: 'a0123'}},\n",
       "  {'ae123': {100: 'ae123'}},\n",
       "  {'aa123': {100: 'aa123'}},\n",
       "  {'ao123': {100: 'av123'}},\n",
       "  {'a2123': {100: 'a2123'}},\n",
       "  {'ao123': {100: 'ap123'}},\n",
       "  {'a5123': {100: 'a5123'}},\n",
       "  {'a6123': {100: 'a6123'}}]]"
      ]
     },
     "execution_count": 91,
     "metadata": {},
     "output_type": "execute_result"
    }
   ],
   "source": [
    "results"
   ]
  },
  {
   "cell_type": "code",
   "execution_count": 66,
   "id": "respective-inflation",
   "metadata": {
    "scrolled": true
   },
   "outputs": [
    {
     "name": "stdout",
     "output_type": "stream",
     "text": [
      "[14, 10, 11, 15]\n",
      "iteration:100, accuracy:0.0, shape accuracy:0.5714285714285714\n",
      "iteration:100, accuracy:0.0, shape accuracy:0.1\n",
      "iteration:100, accuracy:0.0, shape accuracy:0.09090909090909091\n",
      "iteration:100, accuracy:0.0, shape accuracy:0.0\n",
      "iteration:200, accuracy:0.14285714285714285, shape accuracy:0.42857142857142855\n",
      "iteration:200, accuracy:0.0, shape accuracy:0.1\n",
      "iteration:200, accuracy:0.0, shape accuracy:0.09090909090909091\n",
      "iteration:200, accuracy:0.0, shape accuracy:0.0\n",
      "iteration:400, accuracy:0.07142857142857142, shape accuracy:0.5714285714285714\n",
      "iteration:400, accuracy:0.0, shape accuracy:0.1\n",
      "iteration:400, accuracy:0.0, shape accuracy:0.18181818181818182\n",
      "iteration:400, accuracy:0.0, shape accuracy:0.0\n",
      "iteration:800, accuracy:0.21428571428571427, shape accuracy:0.5714285714285714\n",
      "iteration:800, accuracy:0.0, shape accuracy:0.2\n",
      "iteration:800, accuracy:0.0, shape accuracy:0.09090909090909091\n",
      "iteration:800, accuracy:0.0, shape accuracy:0.0\n",
      "iteration:1600, accuracy:0.21428571428571427, shape accuracy:0.5714285714285714\n",
      "iteration:1600, accuracy:0.1, shape accuracy:0.2\n",
      "iteration:1600, accuracy:0.0, shape accuracy:0.09090909090909091\n",
      "iteration:1600, accuracy:0.0, shape accuracy:0.0\n",
      "iteration:3200, accuracy:0.5, shape accuracy:0.7857142857142857\n",
      "iteration:3200, accuracy:0.0, shape accuracy:0.2\n",
      "iteration:3200, accuracy:0.0, shape accuracy:0.0\n",
      "iteration:3200, accuracy:0.0, shape accuracy:0.0\n",
      "iteration:6400, accuracy:0.42857142857142855, shape accuracy:0.7142857142857143\n",
      "iteration:6400, accuracy:0.0, shape accuracy:0.2\n",
      "iteration:6400, accuracy:0.0, shape accuracy:0.0\n",
      "iteration:6400, accuracy:0.0, shape accuracy:0.06666666666666667\n"
     ]
    }
   ],
   "source": [
    "selected_secrets = results[7]\n",
    "selected_secrets_shape = [word_shape(secret) for secret in selected_secrets]\n",
    "iteration_extracted = results[6]\n",
    "selected_secret_num_missing = {2:[], 3:[], 4:[], 5:[]}\n",
    "for secret in selected_secrets:\n",
    "    num_missing = len(secret) - (len(secret[1]) + len(secret[-3:]))\n",
    "    selected_secret_num_missing[num_missing].append(secret)\n",
    "    \n",
    "print([len(selected_secret_num_missing[num_missing]) for num_missing in selected_secret_num_missing])\n",
    "    \n",
    "\n",
    "accuracy_all = {100:{}, 200:{}, 400:{}, 800:{}, 1600:{}, 3200:{}, 6400:{}}\n",
    "shape_accuracy_all = {100:{}, 200:{}, 400:{}, 800:{}, 1600:{}, 3200:{}, 6400:{}}\n",
    "\n",
    "for iteration in iteration_extracted:\n",
    "    extracted_secret = iteration_extracted[iteration]\n",
    "    \n",
    "    extracted_secret_num_missing = {2:[], 3:[], 4:[], 5:[]}\n",
    "    \n",
    "    for secret in extracted_secret:\n",
    "        num_missing = len(secret) - (len(secret[1]) + len(secret[-3:]))\n",
    "        extracted_secret_num_missing[num_missing].append(secret)\n",
    "    \n",
    "    for num_missing in extracted_secret_num_missing:\n",
    "        extracted = extracted_secret_num_missing[num_missing]\n",
    "        selected = selected_secret_num_missing[num_missing]\n",
    "        extracted_shape = [word_shape(secret) for secret in extracted]\n",
    "        selected_shape = [word_shape(secret) for secret in selected]\n",
    "        print(\"iteration:{}, accuracy:{}, shape accuracy:{}\".format(iteration, accuracy_score(extracted, selected), accuracy_score(extracted_shape, selected_shape)))\n",
    "        \n",
    "        accuracy_all[iteration][num_missing] = accuracy_score(extracted, selected)\n",
    "        shape_accuracy_all[iteration][num_missing] = accuracy_score(extracted_shape, selected_shape)\n",
    "    \n",
    "#     print(len(extracted_secret))\n",
    "#     extracted_secret_shape = [word_shape(secret) for secret in extracted_secret]\n",
    "#     print(iteration, accuracy_score(extracted_secret, selected_secrets), accuracy_score(extracted_secret_shape, selected_secrets_shape))\n",
    "    \n",
    "    "
   ]
  },
  {
   "cell_type": "code",
   "execution_count": 67,
   "id": "burning-scanning",
   "metadata": {},
   "outputs": [
    {
     "name": "stdout",
     "output_type": "stream",
     "text": [
      "  2 3 4 5\n",
      "100 0.0 0.0 0.0 0.0\n",
      "200 0.14285714285714285 0.0 0.0 0.0\n",
      "400 0.07142857142857142 0.0 0.0 0.0\n",
      "800 0.21428571428571427 0.0 0.0 0.0\n",
      "1600 0.21428571428571427 0.1 0.0 0.0\n",
      "3200 0.5 0.0 0.0 0.0\n",
      "6400 0.42857142857142855 0.0 0.0 0.0\n",
      "  2 3 4 5\n",
      "100 0.5714285714285714 0.1 0.09090909090909091 0.0\n",
      "200 0.42857142857142855 0.1 0.09090909090909091 0.0\n",
      "400 0.5714285714285714 0.1 0.18181818181818182 0.0\n",
      "800 0.5714285714285714 0.2 0.09090909090909091 0.0\n",
      "1600 0.5714285714285714 0.2 0.09090909090909091 0.0\n",
      "3200 0.7857142857142857 0.2 0.0 0.0\n",
      "6400 0.7142857142857143 0.2 0.0 0.06666666666666667\n"
     ]
    }
   ],
   "source": [
    "print(\" \", \"2\", \"3\", \"4\", \"5\")\n",
    "for it in [100, 200, 400, 800, 1600, 3200, 6400]:\n",
    "    print(it, accuracy_all[it][2], accuracy_all[it][3], accuracy_all[it][4], accuracy_all[it][5])\n",
    "\n",
    "print(\" \", \"2\", \"3\", \"4\", \"5\")\n",
    "for it in [100, 200, 400, 800, 1600, 3200, 6400]:\n",
    "    print(it, shape_accuracy_all[it][2], shape_accuracy_all[it][3], shape_accuracy_all[it][4], shape_accuracy_all[it][5])\n",
    "  \n",
    "    "
   ]
  },
  {
   "cell_type": "code",
   "execution_count": 39,
   "id": "turned-physics",
   "metadata": {},
   "outputs": [
    {
     "data": {
      "text/plain": [
       "[2, 3, 4, 5]"
      ]
     },
     "execution_count": 39,
     "metadata": {},
     "output_type": "execute_result"
    }
   ],
   "source": [
    "list(range(2,6))"
   ]
  },
  {
   "cell_type": "code",
   "execution_count": 10,
   "id": "federal-worst",
   "metadata": {},
   "outputs": [
    {
     "name": "stdout",
     "output_type": "stream",
     "text": [
      "{100: [], 200: [], 400: [], 800: [], 1600: [], 3200: [], 6400: []}\n"
     ]
    }
   ],
   "source": [
    "iterations = 100\n",
    "max_iterations = 10000\n",
    "extracted_at_iteration={}\n",
    "while iterations<=max_iterations:\n",
    "    extracted_at_iteration[iterations] = []\n",
    "    iterations = iterations*2\n",
    "    \n",
    "print(extracted_at_iteration)"
   ]
  },
  {
   "cell_type": "code",
   "execution_count": 78,
   "id": "passing-spotlight",
   "metadata": {},
   "outputs": [],
   "source": [
    "import multiprocessing as mp\n",
    "mgr = mp.Manager()\n",
    "    \n",
    "secrets = ['abs123']\n",
    "max_iterations = 400\n",
    "extracted_at_iteration={secret:{} for secret in secrets}\n",
    "for secret in secrets:\n",
    "    iterations = 100\n",
    "    while iterations<=max_iterations:\n",
    "        extracted_at_iteration[secret][iterations] = 0\n",
    "        iterations = iterations*2\n",
    "extracted_at_iteration = mgr.dict(extracted_at_iteration)"
   ]
  },
  {
   "cell_type": "code",
   "execution_count": 85,
   "id": "vocational-south",
   "metadata": {},
   "outputs": [],
   "source": [
    "def f(extracted_at_iteration, extracted):\n",
    "    print(extracted_at_iteration['abs123'][100])\n",
    "    extracted_at_iteration['abs123'][100] = 'abs123'\n",
    "    print(extracted_at_iteration['abs123'][100])\n",
    "    extracted.append('abs123')"
   ]
  },
  {
   "cell_type": "code",
   "execution_count": 87,
   "id": "attempted-advocate",
   "metadata": {},
   "outputs": [
    {
     "name": "stdout",
     "output_type": "stream",
     "text": [
      "0\n",
      "0\n"
     ]
    }
   ],
   "source": [
    "\n",
    "extracted = mgr.list()\n",
    "p1 = mp.Process(target=f, args=(extracted_at_iteration,extracted))\n",
    "#p2 = mp.Process(target=f, args=(extracted_at_iteration,extracted))\n",
    "p1.start()\n",
    "#p2.start()\n",
    "p1.join()\n",
    "#p2.join()"
   ]
  },
  {
   "cell_type": "code",
   "execution_count": 88,
   "id": "preliminary-payday",
   "metadata": {},
   "outputs": [
    {
     "data": {
      "text/plain": [
       "({'abs123': {100: 0, 200: 0, 400: 0}}, ['abs123'])"
      ]
     },
     "execution_count": 88,
     "metadata": {},
     "output_type": "execute_result"
    }
   ],
   "source": [
    "dict(extracted_at_iteration), list(extracted)"
   ]
  },
  {
   "cell_type": "code",
   "execution_count": null,
   "id": "micro-conviction",
   "metadata": {},
   "outputs": [],
   "source": []
  }
 ],
 "metadata": {
  "kernelspec": {
   "display_name": "Python [conda env:spacy3] *",
   "language": "python",
   "name": "conda-env-spacy3-py"
  },
  "language_info": {
   "codemirror_mode": {
    "name": "ipython",
    "version": 3
   },
   "file_extension": ".py",
   "mimetype": "text/x-python",
   "name": "python",
   "nbconvert_exporter": "python",
   "pygments_lexer": "ipython3",
   "version": "3.6.12"
  }
 },
 "nbformat": 4,
 "nbformat_minor": 5
}
